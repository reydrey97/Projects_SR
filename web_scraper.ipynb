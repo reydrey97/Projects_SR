{
 "cells": [
  {
   "cell_type": "markdown",
   "id": "0c42cce9",
   "metadata": {},
   "source": [
    "# pip install google-play-scraper"
   ]
  },
  {
   "cell_type": "code",
   "execution_count": 1,
   "id": "e9648496",
   "metadata": {},
   "outputs": [],
   "source": [
    "from google_play_scraper import reviews_all, Sort\n",
    "\n",
    "\n",
    "result = reviews_all(\n",
    "    'org.altruist.BajajExperia',\n",
    "    sleep_milliseconds=0, # defaults to 0\n",
    "    lang='en', # defaults to 'en'\n",
    "    country='us', # defaults to 'us'\n",
    "    sort=Sort.MOST_RELEVANT, # defaults to Sort.MOST_RELEVANT\n",
    ")\n",
    "\n",
    "#print(result)\n",
    "\n",
    "\n"
   ]
  },
  {
   "cell_type": "code",
   "execution_count": 2,
   "id": "32d6ab86",
   "metadata": {},
   "outputs": [
    {
     "data": {
      "text/html": [
       "<div>\n",
       "<style scoped>\n",
       "    .dataframe tbody tr th:only-of-type {\n",
       "        vertical-align: middle;\n",
       "    }\n",
       "\n",
       "    .dataframe tbody tr th {\n",
       "        vertical-align: top;\n",
       "    }\n",
       "\n",
       "    .dataframe thead th {\n",
       "        text-align: right;\n",
       "    }\n",
       "</style>\n",
       "<table border=\"1\" class=\"dataframe\">\n",
       "  <thead>\n",
       "    <tr style=\"text-align: right;\">\n",
       "      <th></th>\n",
       "      <th>reviewId</th>\n",
       "      <th>userName</th>\n",
       "      <th>userImage</th>\n",
       "      <th>content</th>\n",
       "      <th>score</th>\n",
       "      <th>thumbsUpCount</th>\n",
       "      <th>reviewCreatedVersion</th>\n",
       "      <th>at</th>\n",
       "      <th>replyContent</th>\n",
       "      <th>repliedAt</th>\n",
       "    </tr>\n",
       "  </thead>\n",
       "  <tbody>\n",
       "    <tr>\n",
       "      <th>0</th>\n",
       "      <td>gp:AOqpTOGYgvRX0ndWK5h6rTeOIH6j6NKarcoIm6Hh6Kh...</td>\n",
       "      <td>pranav sharma</td>\n",
       "      <td>https://play-lh.googleusercontent.com/a-/AOh14...</td>\n",
       "      <td>Not good....it's like 10 times higher rate of ...</td>\n",
       "      <td>1</td>\n",
       "      <td>322</td>\n",
       "      <td>5.0.7</td>\n",
       "      <td>2021-12-01 07:14:15</td>\n",
       "      <td>Hi Pranav, Sorry for the inconvenience caused....</td>\n",
       "      <td>2021-12-01 07:18:08</td>\n",
       "    </tr>\n",
       "    <tr>\n",
       "      <th>1</th>\n",
       "      <td>gp:AOqpTOH_DGdETYgglAXA5GU6NGPayK5c7VnMtfCr9iK...</td>\n",
       "      <td>Karunesh Kumar</td>\n",
       "      <td>https://play-lh.googleusercontent.com/a-/AOh14...</td>\n",
       "      <td>Really worst service. I kept sufficient balanc...</td>\n",
       "      <td>1</td>\n",
       "      <td>86</td>\n",
       "      <td>5.0.7</td>\n",
       "      <td>2021-12-05 04:02:31</td>\n",
       "      <td>Hi User, Sorry for the inconvenience caused. H...</td>\n",
       "      <td>2021-12-05 04:12:22</td>\n",
       "    </tr>\n",
       "    <tr>\n",
       "      <th>2</th>\n",
       "      <td>gp:AOqpTOFae0rYhyRFO8W5vLvwBZfPsAHkkgJg_MaR1bm...</td>\n",
       "      <td>Teja's Direction</td>\n",
       "      <td>https://play-lh.googleusercontent.com/a-/AOh14...</td>\n",
       "      <td>Always logout it is very irritating me . Every...</td>\n",
       "      <td>2</td>\n",
       "      <td>83</td>\n",
       "      <td>5.0.7</td>\n",
       "      <td>2021-12-05 02:07:16</td>\n",
       "      <td>Hi User, Greetings from Bajaj Finance! We woul...</td>\n",
       "      <td>2021-12-05 02:09:06</td>\n",
       "    </tr>\n",
       "    <tr>\n",
       "      <th>3</th>\n",
       "      <td>gp:AOqpTOFdDWuCsn9wzi2VblbNsXyQYXDGuoNL6t4Kphl...</td>\n",
       "      <td>Pavan Gurunayak</td>\n",
       "      <td>https://play-lh.googleusercontent.com/a-/AOh14...</td>\n",
       "      <td>Worst application and service. It's 2nd time w...</td>\n",
       "      <td>1</td>\n",
       "      <td>159</td>\n",
       "      <td>5.0.7</td>\n",
       "      <td>2021-11-30 14:10:35</td>\n",
       "      <td>Hi Pavan, Greetings from Bajaj Finance! We wou...</td>\n",
       "      <td>2021-11-30 21:51:39</td>\n",
       "    </tr>\n",
       "    <tr>\n",
       "      <th>4</th>\n",
       "      <td>gp:AOqpTOFTccyzG-raBXpnr3jXNloRrwpsOsgnSSmAHED...</td>\n",
       "      <td>Vishal Shigavan</td>\n",
       "      <td>https://play-lh.googleusercontent.com/a-/AOh14...</td>\n",
       "      <td>You have a very bad app. When I open the app w...</td>\n",
       "      <td>1</td>\n",
       "      <td>7</td>\n",
       "      <td>5.0.7</td>\n",
       "      <td>2021-12-03 07:30:08</td>\n",
       "      <td>Hi Vishal, Greetings from Bajaj Finance! We wo...</td>\n",
       "      <td>2021-12-03 07:37:27</td>\n",
       "    </tr>\n",
       "  </tbody>\n",
       "</table>\n",
       "</div>"
      ],
      "text/plain": [
       "                                            reviewId          userName  \\\n",
       "0  gp:AOqpTOGYgvRX0ndWK5h6rTeOIH6j6NKarcoIm6Hh6Kh...     pranav sharma   \n",
       "1  gp:AOqpTOH_DGdETYgglAXA5GU6NGPayK5c7VnMtfCr9iK...    Karunesh Kumar   \n",
       "2  gp:AOqpTOFae0rYhyRFO8W5vLvwBZfPsAHkkgJg_MaR1bm...  Teja's Direction   \n",
       "3  gp:AOqpTOFdDWuCsn9wzi2VblbNsXyQYXDGuoNL6t4Kphl...   Pavan Gurunayak   \n",
       "4  gp:AOqpTOFTccyzG-raBXpnr3jXNloRrwpsOsgnSSmAHED...   Vishal Shigavan   \n",
       "\n",
       "                                           userImage  \\\n",
       "0  https://play-lh.googleusercontent.com/a-/AOh14...   \n",
       "1  https://play-lh.googleusercontent.com/a-/AOh14...   \n",
       "2  https://play-lh.googleusercontent.com/a-/AOh14...   \n",
       "3  https://play-lh.googleusercontent.com/a-/AOh14...   \n",
       "4  https://play-lh.googleusercontent.com/a-/AOh14...   \n",
       "\n",
       "                                             content  score  thumbsUpCount  \\\n",
       "0  Not good....it's like 10 times higher rate of ...      1            322   \n",
       "1  Really worst service. I kept sufficient balanc...      1             86   \n",
       "2  Always logout it is very irritating me . Every...      2             83   \n",
       "3  Worst application and service. It's 2nd time w...      1            159   \n",
       "4  You have a very bad app. When I open the app w...      1              7   \n",
       "\n",
       "  reviewCreatedVersion                  at  \\\n",
       "0                5.0.7 2021-12-01 07:14:15   \n",
       "1                5.0.7 2021-12-05 04:02:31   \n",
       "2                5.0.7 2021-12-05 02:07:16   \n",
       "3                5.0.7 2021-11-30 14:10:35   \n",
       "4                5.0.7 2021-12-03 07:30:08   \n",
       "\n",
       "                                        replyContent           repliedAt  \n",
       "0  Hi Pranav, Sorry for the inconvenience caused.... 2021-12-01 07:18:08  \n",
       "1  Hi User, Sorry for the inconvenience caused. H... 2021-12-05 04:12:22  \n",
       "2  Hi User, Greetings from Bajaj Finance! We woul... 2021-12-05 02:09:06  \n",
       "3  Hi Pavan, Greetings from Bajaj Finance! We wou... 2021-11-30 21:51:39  \n",
       "4  Hi Vishal, Greetings from Bajaj Finance! We wo... 2021-12-03 07:37:27  "
      ]
     },
     "execution_count": 2,
     "metadata": {},
     "output_type": "execute_result"
    }
   ],
   "source": [
    "import pandas as pd\n",
    "pd_df = pd.DataFrame(result)\n",
    "pd_df.head()"
   ]
  },
  {
   "cell_type": "code",
   "execution_count": 3,
   "id": "4e3636e8",
   "metadata": {},
   "outputs": [
    {
     "data": {
      "text/plain": [
       "(7164, 10)"
      ]
     },
     "execution_count": 3,
     "metadata": {},
     "output_type": "execute_result"
    }
   ],
   "source": [
    "pd_df.shape"
   ]
  },
  {
   "cell_type": "code",
   "execution_count": null,
   "id": "db3cd0ab",
   "metadata": {},
   "outputs": [],
   "source": [
    "pd_df.to_csv('reviews_bajajfin.csv', index=False) #index=true - will add index as the first column"
   ]
  },
  {
   "cell_type": "code",
   "execution_count": null,
   "id": "8bbe433a",
   "metadata": {},
   "outputs": [],
   "source": [
    "#tokenize - separate each word and make them different columns (each word becomes a column)\n",
    "#remove prepositions and pronouns (cleaning)\n",
    "#vectorize language data (libraries available for this process)\n",
    "#tfidf - term frequency inverse document frequency\n",
    "#how to implement tfidf on the content column of the dataframe \n",
    "#december 5th 2021\n",
    "#latent durshley allocation\n",
    "#5 days\n"
   ]
  },
  {
   "cell_type": "code",
   "execution_count": 4,
   "id": "66087334",
   "metadata": {},
   "outputs": [],
   "source": [
    "# stop_words = ['a', 'about', 'above', 'across', 'after', 'afterwards', 'again',\n",
    "# 'against', 'all', 'almost', 'alone', 'along', 'already', 'also',\n",
    "# 'although', 'always', 'am', 'among', 'amongst', 'amoungst',\n",
    "# 'amount', 'an', 'and', 'another', 'any', 'anybody', 'anyhow', 'anyone',\n",
    "# 'anything', 'anyway', 'anywhere', 'are', 'area', 'areas', 'around',\n",
    "# 'as', 'ask', 'asking', 'asked', 'asks', 'at', 'b', 'back', 'backed',\n",
    "# 'backing', 'backs' 'be','became', 'because', 'become', 'becomes',\n",
    "# 'becoming', 'been', 'before', 'began', 'beforehand', 'behind', 'being',\n",
    "# 'beings', 'best', 'better', 'below', 'beside', 'besides',\n",
    "# 'between', 'beyond', 'big', 'bill', 'both', 'bottom', 'but', 'by', 'c',\n",
    "# 'call', 'came', 'can', 'cannot', 'cant', 'case', 'cases', 'certain',\n",
    "# 'certainly', 'clear', 'clearly', 'come', 'computer', 'con', 'could',\n",
    "# 'couldnt', 'cry', 'd', 'de', 'describe', 'detail', 'did', 'differ',\n",
    "# 'different', 'differently', 'do', 'does', 'done', 'down', 'downed',\n",
    "# 'downing', 'downs', 'dr', 'due', 'during', 'e', 'each', 'early', 'eg',\n",
    "# 'eight', 'either', 'eleven', 'else', 'elsewhere', 'empty', 'end', 'ended',\n",
    "# 'ending', 'ends', 'enough', 'etc', 'even', 'evenly', 'ever', 'every',\n",
    "# 'everybody', 'everyone', 'everything', 'everywhere', 'except', 'f', 'face',\n",
    "# 'faces', 'fact', 'facts', 'far', 'felt', 'few', 'fifteen', 'fifty', 'fill',\n",
    "# 'find', 'finds', 'fire', 'first', 'five', 'for', 'former', 'formerly',\n",
    "# 'forty', 'found', 'four', 'from', 'front', 'full', 'fully', 'further',\n",
    "# 'furthered', 'furthering', 'furthers', 'g', 'gave', 'general', 'generally',\n",
    "# 'get', 'gets', 'give', 'given', 'gives', 'go', 'going', 'good', 'goods',\n",
    "# 'got', 'great', 'greater', 'greatest', 'group', 'grouped', 'groups', 'had',\n",
    "# 'h', 'had', 'has', 'hasnt', 'have', 'having', 'he', 'hence', 'her',\n",
    "# 'here', 'hereafter', 'hereby', 'herein', 'hereupon', 'hers', 'herself',\n",
    "# 'high', 'higher', 'highest', 'him', 'himself', 'his', 'how', 'however',\n",
    "# 'hundred', 'i', 'ie', 'if', 'important', 'in', 'inc', 'indeed',\n",
    "# 'interest', 'interested', 'interesting', 'interests', 'into', 'is',\n",
    "# 'it', 'its', 'itself', 'j', 'just', 'k', 'keep', 'keeps', 'kind',\n",
    "# 'knew', 'know', 'known', 'knows', 'l', 'large', 'largely', 'last',\n",
    "# 'later', 'latest', 'latter', 'latterly', 'least', 'less', 'let',\n",
    "# 'lets', 'like', 'likely', 'long', 'longer', 'longest', 'ltd', 'm', 'made',\n",
    "# 'make', 'making', 'man', 'many', 'may', 'me', 'meanwhile', 'member',\n",
    "# 'members', 'men', 'might', 'mill', 'mine', 'more', 'moreover',\n",
    "# 'most', 'mostly', 'move', 'mr', 'mrs', 'ms', 'much', 'must', 'my',\n",
    "# 'myself', 'n', 'name', 'namely', 'necessary', 'need', 'needed', 'needing',\n",
    "# 'needs', 'neither', 'never', 'nevertheless', 'new', 'newer', 'newest',\n",
    "# 'next', 'nine', 'no', 'nobody', 'non', 'none', 'noone', 'nor', 'not',\n",
    "# 'nothing', 'now', 'nowhere', 'number', 'numbers', 'o', 'of', 'off',\n",
    "# 'often', 'old', 'older', 'oldest', 'on', 'once', 'one', 'only', 'onto',\n",
    "# 'open', 'opened', 'opening', 'opens', 'or', 'order', 'ordered', 'ordering',\n",
    "# 'orders', 'other', 'others', 'otherwise', 'our', 'ours', 'ourselves', 'out',\n",
    "# 'over', 'own', 'p', 'part', 'parted', 'parting', 'parts', 'per', 'perhaps',\n",
    "# 'place', 'places', 'please', 'point', 'pointed', 'pointing', 'points',\n",
    "# 'possible', 'present', 'presented', 'presenting', 'presents', 'problem',\n",
    "# 'problems', 'put', 'puts', 'q', 'quite', 'r', 'rather', 're', 'really',\n",
    "# 'right', 'room', 'rooms', 's', 'said', 'same', 'saw', 'say', 'says',\n",
    "# 'second', 'seconds', 'see', 'seem', 'seemed', 'seeming', 'seems', 'sees',\n",
    "# 'serious', 'several', 'shall', 'she', 'should','show', 'showed', 'showing',\n",
    "# 'shows', 'side', 'sides', 'since', 'sincere', 'six', 'sixty', 'small',\n",
    "# 'smaller', 'smallest', 'so', 'some', 'somebody', 'somehow', 'someone',\n",
    "# 'something', 'sometime', 'sometimes', 'somewhere', 'state', 'states', 'still',\n",
    "# 'such', 'sure', 'system', 't', 'take', 'taken', 'ten', 'than',\n",
    "# 'that', 'the', 'their', 'them', 'themselves', 'then', 'thence',\n",
    "# 'there', 'thereafter', 'thereby', 'therefore', 'therein', 'thereupon',\n",
    "# 'these', 'they', 'thick', 'thin', 'thing', 'things', 'think', 'thinks',\n",
    "# 'third', 'this', 'those', 'though', 'thought', 'thoughts', 'three', 'through',\n",
    "# 'throughout', 'thru', 'thus', 'to', 'today', 'together', 'too', 'took', 'top',\n",
    "# 'toward', 'towards', 'turn', 'turned', 'turning', 'turns', 'twelve', 'twenty',\n",
    "# 'two', 'u', 'un', 'under', 'until', 'up', 'upon', 'us', 'use', 'used', 'uses',\n",
    "# 'v', 'very', 'via', 'w', 'want', 'wanted', 'wanting', 'wants', 'was', 'way',\n",
    "# 'ways', 'we', 'well', 'wells', 'went', 'were', 'what', 'whatever', 'when',\n",
    "# 'whence', 'whenever', 'where', 'whereafter', 'whereas', 'whereby', 'wherein',\n",
    "# 'whereupon', 'wherever', 'whether', 'which', 'while', 'whither', 'who',\n",
    "# 'whoever', 'whole', 'whom', 'whose', 'why', 'will', 'with', 'within',\n",
    "# 'without', 'work', 'worked', 'working', 'works', 'would', 'x', 'y', 'year',\n",
    "# 'years', 'yet', 'you', 'young', 'younger', 'youngest', 'your', 'yours',\n",
    "# 'yourself', 'yourselves', 'z']\n"
   ]
  },
  {
   "cell_type": "code",
   "execution_count": 2,
   "id": "1dbae06f",
   "metadata": {},
   "outputs": [],
   "source": [
    "import pandas as pd\n",
    "df = pd.read_csv('reviews_bajajfin.csv')\n",
    "df = df[df['score'].isin([1,2,3])]"
   ]
  },
  {
   "cell_type": "code",
   "execution_count": 64,
   "id": "3bd69cbb",
   "metadata": {},
   "outputs": [],
   "source": [
    "# pip install sklearn"
   ]
  },
  {
   "cell_type": "code",
   "execution_count": 65,
   "id": "45e68ddf",
   "metadata": {},
   "outputs": [],
   "source": [
    "# from sklearn.feature_extraction.text import TfidfVectorizer'\n",
    "# vectorizer = TfidfVectorizer()'\n",
    "# X = vectorizer.fit_transform(df.content)'\n",
    "#df = dataframe with columns - "
   ]
  },
  {
   "cell_type": "code",
   "execution_count": 66,
   "id": "fb4d518d",
   "metadata": {},
   "outputs": [],
   "source": [
    "# vectorizer.get_feature_names_out()\n",
    "# print(vectorizer.get_feature_names_out().shape)\n",
    "#converting each word as a token - stored in feature names "
   ]
  },
  {
   "cell_type": "code",
   "execution_count": 67,
   "id": "0b124e33",
   "metadata": {},
   "outputs": [],
   "source": [
    "# print(X.shape)\n",
    "#column = tokenized content of reviews "
   ]
  },
  {
   "cell_type": "code",
   "execution_count": 68,
   "id": "56ae02da",
   "metadata": {
    "scrolled": true
   },
   "outputs": [],
   "source": [
    "#one word - monogram \n",
    "#two words - bigram\n",
    "#three words - trigram\n",
    "# df.head()"
   ]
  },
  {
   "cell_type": "code",
   "execution_count": 69,
   "id": "aa7bc834",
   "metadata": {},
   "outputs": [],
   "source": [
    "# print(X)\n",
    "#tfidf - importance rating based on frequency of word in document - used in supervised learning"
   ]
  },
  {
   "cell_type": "code",
   "execution_count": 70,
   "id": "5b680217",
   "metadata": {},
   "outputs": [
    {
     "name": "stdout",
     "output_type": "stream",
     "text": [
      "(6782, 10)\n"
     ]
    }
   ],
   "source": [
    "print(df.shape)"
   ]
  },
  {
   "cell_type": "code",
   "execution_count": 71,
   "id": "83a7b6cc",
   "metadata": {},
   "outputs": [],
   "source": [
    "#LDA - Latent Durshley Allocation\n",
    "#read on this \n",
    "#how to implement LDA\n",
    "#trigrams and bigrams are used when there are multiple meanings for the same set of words \n",
    "#example - i learnt english, it is not an easy language\n",
    "        #  i did not learn english, it is an easy language\n",
    "    # similar words, different meanings - therefore, bigrams and trigrams would be more useful\n",
    "    \n",
    "#watch videos again and read coherence measures article\n",
    "\n",
    "#sliding window sequence of words \n",
    "#pointwise mutual information - when topics are in bullets - each subject has a particular topic in it \n"
   ]
  },
  {
   "cell_type": "code",
   "execution_count": 3,
   "id": "4938ea18",
   "metadata": {},
   "outputs": [],
   "source": [
    "# remove punctuation\n",
    "import re\n",
    "df['content_processed'] = df['content'].map(lambda x:\n",
    "                                           re.sub('[,\\.!?;]', ' ', x)) #substitutes any punctuation into spaces\n",
    "# map lambda function = iterate through each row and return the function (re.sub) value after processing"
   ]
  },
  {
   "cell_type": "code",
   "execution_count": 4,
   "id": "d21610b0",
   "metadata": {},
   "outputs": [],
   "source": [
    "# convert titles to lowercase\n",
    "# instead of replacing punctuation with spaces, it is being converted into lower case\n",
    "df['content_processed'] = df['content_processed'].map(lambda x: x.lower())"
   ]
  },
  {
   "cell_type": "code",
   "execution_count": 74,
   "id": "0a3c8a2b",
   "metadata": {
    "scrolled": true
   },
   "outputs": [
    {
     "data": {
      "text/plain": [
       "0    not good    it's like 10 times higher rate of ...\n",
       "1    worst app  when you open flexi loan tab  showi...\n",
       "2    worst application and service  it's 2nd time w...\n",
       "3    this app was initially great   now after the r...\n",
       "4    i can't get otp in my number before it's to ea...\n",
       "Name: content_processed, dtype: object"
      ]
     },
     "execution_count": 74,
     "metadata": {},
     "output_type": "execute_result"
    }
   ],
   "source": [
    "df['content_processed'].head()"
   ]
  },
  {
   "cell_type": "code",
   "execution_count": 77,
   "id": "ba1940c5",
   "metadata": {},
   "outputs": [],
   "source": [
    "# pip install gensim"
   ]
  },
  {
   "cell_type": "code",
   "execution_count": 5,
   "id": "2054e535",
   "metadata": {},
   "outputs": [
    {
     "name": "stdout",
     "output_type": "stream",
     "text": [
      "['not', 'good', 'it', 'like', 'times', 'higher', 'rate', 'of', 'interest', 'and', 'noc', 'issues', 'also', 'after', 'making', 'payments', 'fraudulent', 'advertisements', 'is', 'common', 'problem', 'getting', 'messages', 'in', 'wats', 'app', 'that', 'my', 'loan', 'amount', 'is', 'already', 'changed', 'without', 'my', 'consent', 'and', 'when', 'clicked', 'on', 'the', 'link', 'provided', 'it', 'new', 'loan', 'offer', 'what', 'complete', 'waste', 'of', 'time', 'hopeless', 'and', 'non', 'trustworthy', 'experience']\n"
     ]
    }
   ],
   "source": [
    "#tokenization \n",
    "import gensim # built for LDA \n",
    "from gensim.utils import simple_preprocess\n",
    "\n",
    "def sentence_words(sentences):\n",
    "    for sentence in sentences:\n",
    "        yield(gensim.utils.simple_preprocess(str(sentence),\n",
    "                                            deacc=True))\n",
    "\n",
    "d1 = df.content_processed.values.tolist() #converting review column into list of sentences\n",
    "d2w = list(sentence_words(d1)) #converting sentence into list of tokens\n",
    "\n",
    "print(d2w[:1][0][:])"
   ]
  },
  {
   "cell_type": "code",
   "execution_count": 6,
   "id": "34459547",
   "metadata": {},
   "outputs": [],
   "source": [
    "#bigrams and trigrams \n",
    "# trigram unrequired in this case\n",
    "bigram1 = gensim.models.Phrases(d2w, min_count=3)"
   ]
  },
  {
   "cell_type": "code",
   "execution_count": 7,
   "id": "046bf3eb",
   "metadata": {},
   "outputs": [],
   "source": [
    "# creating the model\n",
    "bigram_model = gensim.models.phrases.Phraser(bigram1)"
   ]
  },
  {
   "cell_type": "code",
   "execution_count": 81,
   "id": "7f9d8fb1",
   "metadata": {
    "scrolled": true
   },
   "outputs": [],
   "source": [
    "# pip install nltk"
   ]
  },
  {
   "cell_type": "code",
   "execution_count": null,
   "id": "634a4406",
   "metadata": {
    "scrolled": true
   },
   "outputs": [],
   "source": []
  },
  {
   "cell_type": "code",
   "execution_count": 8,
   "id": "d0914061",
   "metadata": {},
   "outputs": [],
   "source": [
    "import nltk\n",
    "# nltk.download('stopwords')\n",
    "from nltk.corpus import stopwords\n",
    "stop_words = stopwords.words('english')\n",
    "stop_words.extend(['non', 'new', 'also', 'already'])"
   ]
  },
  {
   "cell_type": "code",
   "execution_count": 83,
   "id": "0b7e0bd8",
   "metadata": {},
   "outputs": [],
   "source": [
    "# l = ['no','wasn\\'t','weren\\'t','not', 'nor']\n",
    "# stop_words = [i for i in stop_words if i not in l] # i = any word in stop_words (if not in l, then keep i)\n",
    "# stop_words"
   ]
  },
  {
   "cell_type": "code",
   "execution_count": 9,
   "id": "a7f5c1c8",
   "metadata": {},
   "outputs": [],
   "source": [
    "# stopwords extend\n",
    "def rem_stopwords(texts):\n",
    "    return[[word for word in simple_preprocess(str(doc)) if word not in stop_words] for doc in texts]\n",
    "# simple_preprocess a library in gensim \n",
    "\n",
    "def mk_bigrams(texts):\n",
    "    return [bigram_model[doc] for doc in texts] # gives input to bigram model \n",
    "\n",
    "def lemmatization(texts, allowed_postags=['NOUN', 'ADJ', 'VERB', 'ADV']):\n",
    "    texts_out = []\n",
    "    for word in texts:\n",
    "        doc = nlp(\" \".join(word))\n",
    "        texts_out.append([token.lemma_ for token in doc if token.pos_ in allowed_postags]) #token.lemma_ lemmatizes the tokens from for loop \n",
    "        # token.pos = returns what kind of word -> noun, adverb, verb, adjective? etc\n",
    "    return texts_out\n",
    "    \n",
    "    "
   ]
  },
  {
   "cell_type": "code",
   "execution_count": 125,
   "id": "094ac0b7",
   "metadata": {},
   "outputs": [],
   "source": [
    "# pip install spacy"
   ]
  },
  {
   "cell_type": "code",
   "execution_count": 10,
   "id": "915a8bce",
   "metadata": {},
   "outputs": [],
   "source": [
    "import spacy \n",
    "# !python3 -m spacy download en_core_web_sm\n",
    "# library \n",
    "# remove stop words \n",
    "no_stop_words = rem_stopwords(d2w)\n",
    "\n",
    "# form bigrams \n",
    "bigrams_words = mk_bigrams(no_stop_words)\n",
    "\n",
    "\n",
    "\n"
   ]
  },
  {
   "cell_type": "code",
   "execution_count": 12,
   "id": "e763e431",
   "metadata": {},
   "outputs": [
    {
     "name": "stdout",
     "output_type": "stream",
     "text": [
      "[['good', 'time', 'high', 'rate', 'interest', 'noc', 'issue', 'making_payment', 'fraudulent', 'advertisement', 'common', 'problem', 'getting_message', 'wat', 'loan', 'amount', 'change', 'consent', 'click', 'link_provided', 'loan', 'offer', 'complete', 'waste', 'time', 'hopeless', 'trustworthy', 'experience']]\n"
     ]
    }
   ],
   "source": [
    "nlp = spacy.load(\"en_core_web_sm\", disable=[\"parser\", \"ner\"])\n",
    "# initialize spacy 'en' model keeping only tagger component (efficiency)\n",
    "# load only English model \n",
    "# spacy = large scale information extraction tasks - when meaning is required from words, spacy is used\n",
    "\n",
    "# lemmatization only done with noun, adj, vb, adv\n",
    "data_lemmatized = lemmatization(bigrams_words)\n",
    "\n",
    "print(data_lemmatized[:1])"
   ]
  },
  {
   "cell_type": "code",
   "execution_count": 13,
   "id": "218b3795",
   "metadata": {},
   "outputs": [
    {
     "name": "stdout",
     "output_type": "stream",
     "text": [
      "[[(0, 1), (1, 1), (2, 1), (3, 1), (4, 1), (5, 1), (6, 1), (7, 1), (8, 1), (9, 1), (10, 1), (11, 1), (12, 1), (13, 1), (14, 1), (15, 1), (16, 2), (17, 1), (18, 1), (19, 1), (20, 1), (21, 1), (22, 2), (23, 1), (24, 1), (25, 1)]]\n",
      "Dictionary(5950 unique tokens: ['advertisement', 'amount', 'change', 'click', 'common']...)\n"
     ]
    }
   ],
   "source": [
    "# multidimensional list = corpus\n",
    "# corpus = lemmatized text\n",
    "#gensim function = corpora -> creates Corpus and dictionary in required format for that training \n",
    "# converts into frequency matrix for the model (since model can only take numbers and not words)\n",
    "\n",
    "import gensim.corpora as corpora\n",
    "\n",
    "# create dictionary \n",
    "id2word = corpora.Dictionary(data_lemmatized)\n",
    "\n",
    "# create corpus \n",
    "texts = data_lemmatized\n",
    "\n",
    "# Term Document Frequency\n",
    "corpus = [id2word.doc2bow(text) for text in texts]\n",
    "# function - doc2bow (bag of words) converts document into bag of words\n",
    "# runs for each of the entries in the data_lemmatized - creates a bag of words for each token (review)\n",
    "\n",
    "print(corpus[:1])\n",
    "print(id2word)\n",
    "\n",
    "# Gensim creates a unique id for each word in the document. \n",
    "# The produced corpus shown above is a mapping of (word_id, word_frequency).\n",
    "# For example, (0, 7) above implies, word id 0 occurs seven times in the first document. \n",
    "# Likewise, word id 1 occurs thrice and so on"
   ]
  },
  {
   "cell_type": "code",
   "execution_count": 129,
   "id": "af0b5727",
   "metadata": {},
   "outputs": [],
   "source": [
    "#buid LDA model\n",
    "# ldamulticore - will occupy all cores of the system, will parallely process the models in each core\n",
    "lda_model = gensim.models.LdaMulticore(corpus=corpus,\n",
    "                                      id2word=id2word,\n",
    "                                      num_topics=3,\n",
    "                                      random_state=100,\n",
    "                                      chunksize=100,\n",
    "                                      passes=10,\n",
    "                                      per_word_topics=True)"
   ]
  },
  {
   "cell_type": "code",
   "execution_count": 130,
   "id": "deade0c6",
   "metadata": {},
   "outputs": [
    {
     "name": "stdout",
     "output_type": "stream",
     "text": [
      "[(0,\n",
      "  '0.077*\"app\" + 0.040*\"login\" + 0.025*\"update\" + 0.021*\"work\" + 0.017*\"open\" '\n",
      "  '+ 0.016*\"unable\" + 0.015*\"able\" + 0.014*\"try\" + 0.014*\"use\" + 0.014*\"show\"'),\n",
      " (1,\n",
      "  '0.039*\"loan\" + 0.024*\"pay\" + 0.020*\"take\" + 0.018*\"bad\" + 0.016*\"charge\" + '\n",
      "  '0.015*\"amount\" + 0.014*\"card\" + 0.013*\"service\" + 0.012*\"time\" + '\n",
      "  '0.012*\"emi\"'),\n",
      " (2,\n",
      "  '0.026*\"bad\" + 0.021*\"card\" + 0.020*\"number\" + 0.020*\"service\" + 0.019*\"get\" '\n",
      "  '+ 0.019*\"call\" + 0.017*\"try\" + 0.015*\"app\" + 0.014*\"time\" + '\n",
      "  '0.012*\"customer\"')]\n"
     ]
    }
   ],
   "source": [
    "from pprint import pprint\n",
    "pprint(lda_model.print_topics())\n",
    "doc_lda = lda_model[corpus]"
   ]
  },
  {
   "cell_type": "code",
   "execution_count": 131,
   "id": "604fdf06",
   "metadata": {},
   "outputs": [
    {
     "name": "stdout",
     "output_type": "stream",
     "text": [
      "0.4552766303175324\n"
     ]
    }
   ],
   "source": [
    "# checking coherence score \n",
    "\n",
    "from gensim.models import CoherenceModel\n",
    "\n",
    "coherence_model_lda = CoherenceModel(model=lda_model, texts=data_lemmatized, dictionary=id2word, coherence='c_v')\n",
    "coherence_lda = coherence_model_lda.get_coherence()\n",
    "\n",
    "print(coherence_lda)\n",
    "# pointwise mutual information - probability of two words occuring adjacent to each other \n",
    "# c_v measures under sliding window - takes two words and calculates probability of them being adjacent to each other\n",
    "# does this using cosine similarity - cos(a,b)\n"
   ]
  },
  {
   "cell_type": "code",
   "execution_count": 155,
   "id": "cb80b128",
   "metadata": {},
   "outputs": [],
   "source": [
    "# tuning hyperparameters \n",
    "# each word corresponds to each topics - therefore an increase in the value of beta is required - beta = word topic density\n",
    "# alpha = document topic density\n",
    "def compute_coh_values(corpus, dictionary, k, a, b): #three hyperparameters - alpha, beta, num topics \n",
    "    lda_model = gensim.models.LdaMulticore(corpus=corpus,\n",
    "                                          id2word=dictionary,\n",
    "                                          num_topics=k,\n",
    "                                          random_state=100,\n",
    "                                          chunksize=100,\n",
    "                                          passes=10,\n",
    "                                          alpha=a,\n",
    "                                          eta=b)\n",
    "    coherence_model_lda = CoherenceModel(model=lda_model, texts=data_lemmatized, dictionary=id2word, coherence='c_v')\n",
    "    return coherence_model_lda.get_coherence()"
   ]
  },
  {
   "cell_type": "code",
   "execution_count": 133,
   "id": "70bb192f",
   "metadata": {},
   "outputs": [
    {
     "data": {
      "text/plain": [
       "6782"
      ]
     },
     "execution_count": 133,
     "metadata": {},
     "output_type": "execute_result"
    }
   ],
   "source": [
    "len(corpus)"
   ]
  },
  {
   "cell_type": "code",
   "execution_count": 186,
   "id": "68a1887f",
   "metadata": {},
   "outputs": [],
   "source": [
    "import numpy as np\n",
    "import tqdm #displaying progress\n",
    "\n",
    "grid={} #grid for different values to be tried for hyperparameters\n",
    "grid['Validation_Set'] = {} \n",
    "\n",
    "#range of topics\n",
    "min_topics = 2\n",
    "max_topics = 12\n",
    "step_size = 1\n",
    "topics_range=range(min_topics, max_topics, step_size) \n",
    "# a set that can be iterated through\n",
    "# grid searches through all the possible combinations of hyperparameters for instance, if a=1,2,3; b=1,2; \n",
    "# c=5,6. The no of possible combinations would be the product of the number of numbers in each set (a, b, c) \n",
    "# 3 x 2 x 2 = 12 \n",
    "\n",
    "#alpha parameter\n",
    "alpha = list(np.arange(0.01, 1.0, 0.3)) #starting at 0.01 ending at 1.5 with 0.3 step size\n",
    "alpha.append('symmetric') #if all topics are symmetrically distributed among the training documents\n",
    "alpha.append('asymmetric') # if all topics are not symmetrically distributed among the training documents\n",
    "\n",
    "#beta parameter\n",
    "beta=list(np.arange(0.01, 1.0, 0.3))\n",
    "beta.append('symmetric')\n",
    "\n",
    "# Validation Set\n",
    "num_of_docs = len(corpus) #no of documents\n",
    "corpus_sets = [gensim.utils.ClippedCorpus(corpus, int(num_of_docs*0.5)), corpus] #, corpus = 100% of the document\n",
    "\n",
    "corpus_title = ['50% Corpus', '100% Corpus']\n",
    "\n",
    "model_results = {'Validation_Set':[],\n",
    "                'Topics':[],\n",
    "                'Alpha':[],\n",
    "                'Beta':[],\n",
    "                'Coherence':[]\n",
    "                }\n",
    "\n",
    "\n",
    "\n",
    "\n"
   ]
  },
  {
   "cell_type": "code",
   "execution_count": 187,
   "id": "85843797",
   "metadata": {},
   "outputs": [
    {
     "name": "stderr",
     "output_type": "stream",
     "text": [
      "100%|██████████| 600/600 [2:24:27<00:00, 14.45s/it]  \n"
     ]
    }
   ],
   "source": [
    "pbar = tqdm.tqdm(total=600) # 10 x 6 x 5 x 2 = 600 -> 6 (max_topics-min_topics (excluding last no)\n",
    "# 0.01 -> 1.5 (5) + asymmetric + symmetric = 7 (for alpha and beta) x (2 -> 75% Corpus and 100% corpus)\n",
    "\n",
    "\n",
    "# iterate through validation corpuses\n",
    "for i in range(len(corpus_sets)):\n",
    "    # iterate through number of topics \n",
    "    for k in topics_range:\n",
    "        #iterate through alpha values\n",
    "        for a in alpha:\n",
    "            # iterate through beta values\n",
    "            for b in beta:\n",
    "                # get coherence scores for given parameters\n",
    "                cv = compute_coh_values(corpus=corpus_sets[i], \n",
    "                                              dictionary=id2word, k=k, a=a, b=b)\n",
    "                model_results['Validation_Set'].append(corpus_title[i])\n",
    "                model_results['Topics'].append(k)\n",
    "                model_results['Alpha'].append(a)\n",
    "                model_results['Beta'].append(b)\n",
    "                model_results['Coherence'].append(cv)\n",
    "                pbar.update(1)\n",
    "pbar.close()\n",
    "                \n",
    "                "
   ]
  },
  {
   "cell_type": "code",
   "execution_count": 193,
   "id": "4feade1c",
   "metadata": {},
   "outputs": [],
   "source": [
    "pd.DataFrame(model_results).to_csv('lda_tuning_results.csv', index=False)"
   ]
  },
  {
   "cell_type": "code",
   "execution_count": 19,
   "id": "d0e709c3",
   "metadata": {},
   "outputs": [
    {
     "name": "stderr",
     "output_type": "stream",
     "text": [
      "/Users/shreyasravi/opt/anaconda3/lib/python3.8/site-packages/ipykernel/ipkernel.py:287: DeprecationWarning: `should_run_async` will not call `transform_cell` automatically in the future. Please pass the result to `transformed_cell` argument and any exception that happen during thetransform in `preprocessing_exc_tuple` in IPython 7.17 and above.\n",
      "  and should_run_async(code)\n"
     ]
    }
   ],
   "source": [
    "df = pd.read_csv('lda_tuning_results.csv')"
   ]
  },
  {
   "cell_type": "code",
   "execution_count": 190,
   "id": "a2d1f17e",
   "metadata": {},
   "outputs": [
    {
     "data": {
      "text/plain": [
       "asymmetric            37\n",
       "0.61                  26\n",
       "0.9099999999999999    23\n",
       "symmetric             15\n",
       "0.31                  14\n",
       "0.01                   9\n",
       "Name: Alpha, dtype: int64"
      ]
     },
     "execution_count": 190,
     "metadata": {},
     "output_type": "execute_result"
    }
   ],
   "source": [
    "df[df['Coherence'] >= 0.5]['Alpha'].value_counts()"
   ]
  },
  {
   "cell_type": "code",
   "execution_count": 195,
   "id": "a5e464b1",
   "metadata": {},
   "outputs": [
    {
     "data": {
      "text/html": [
       "<div>\n",
       "<style scoped>\n",
       "    .dataframe tbody tr th:only-of-type {\n",
       "        vertical-align: middle;\n",
       "    }\n",
       "\n",
       "    .dataframe tbody tr th {\n",
       "        vertical-align: top;\n",
       "    }\n",
       "\n",
       "    .dataframe thead th {\n",
       "        text-align: right;\n",
       "    }\n",
       "</style>\n",
       "<table border=\"1\" class=\"dataframe\">\n",
       "  <thead>\n",
       "    <tr style=\"text-align: right;\">\n",
       "      <th></th>\n",
       "      <th>Validation_Set</th>\n",
       "      <th>Topics</th>\n",
       "      <th>Alpha</th>\n",
       "      <th>Beta</th>\n",
       "      <th>Coherence</th>\n",
       "    </tr>\n",
       "  </thead>\n",
       "  <tbody>\n",
       "    <tr>\n",
       "      <th>0</th>\n",
       "      <td>50% Corpus</td>\n",
       "      <td>2</td>\n",
       "      <td>0.01</td>\n",
       "      <td>0.01</td>\n",
       "      <td>0.414541</td>\n",
       "    </tr>\n",
       "    <tr>\n",
       "      <th>1</th>\n",
       "      <td>50% Corpus</td>\n",
       "      <td>2</td>\n",
       "      <td>0.01</td>\n",
       "      <td>0.31</td>\n",
       "      <td>0.412854</td>\n",
       "    </tr>\n",
       "    <tr>\n",
       "      <th>2</th>\n",
       "      <td>50% Corpus</td>\n",
       "      <td>2</td>\n",
       "      <td>0.01</td>\n",
       "      <td>0.61</td>\n",
       "      <td>0.406785</td>\n",
       "    </tr>\n",
       "    <tr>\n",
       "      <th>3</th>\n",
       "      <td>50% Corpus</td>\n",
       "      <td>2</td>\n",
       "      <td>0.01</td>\n",
       "      <td>0.9099999999999999</td>\n",
       "      <td>0.406785</td>\n",
       "    </tr>\n",
       "    <tr>\n",
       "      <th>4</th>\n",
       "      <td>50% Corpus</td>\n",
       "      <td>2</td>\n",
       "      <td>0.01</td>\n",
       "      <td>symmetric</td>\n",
       "      <td>0.406785</td>\n",
       "    </tr>\n",
       "  </tbody>\n",
       "</table>\n",
       "</div>"
      ],
      "text/plain": [
       "  Validation_Set  Topics Alpha                Beta  Coherence\n",
       "0     50% Corpus       2  0.01                0.01   0.414541\n",
       "1     50% Corpus       2  0.01                0.31   0.412854\n",
       "2     50% Corpus       2  0.01                0.61   0.406785\n",
       "3     50% Corpus       2  0.01  0.9099999999999999   0.406785\n",
       "4     50% Corpus       2  0.01           symmetric   0.406785"
      ]
     },
     "execution_count": 195,
     "metadata": {},
     "output_type": "execute_result"
    }
   ],
   "source": [
    "df.head()"
   ]
  },
  {
   "cell_type": "code",
   "execution_count": 196,
   "id": "f4e3b3b6",
   "metadata": {},
   "outputs": [
    {
     "data": {
      "text/plain": [
       "<AxesSubplot:xlabel='Topics', ylabel='Coherence'>"
      ]
     },
     "execution_count": 196,
     "metadata": {},
     "output_type": "execute_result"
    },
    {
     "data": {
      "image/png": "[encoded data removed]",
      "text/plain": [
       "<Figure size 432x288 with 1 Axes>"
      ]
     },
     "metadata": {
      "needs_background": "light"
     },
     "output_type": "display_data"
    }
   ],
   "source": [
    "import seaborn as sns\n",
    "# import matplotlib.pyplot as plt\n",
    "%matplotlib inline\n",
    "sns.lineplot(x='Topics', y='Coherence', hue='Validation_Set', data=df[(df.Alpha=='asymmetric') & (df.Beta=='0.61')])"
   ]
  },
  {
   "cell_type": "code",
   "execution_count": 24,
   "id": "2aa90e6e",
   "metadata": {},
   "outputs": [
    {
     "name": "stderr",
     "output_type": "stream",
     "text": [
      "/Users/shreyasravi/opt/anaconda3/lib/python3.8/site-packages/ipykernel/ipkernel.py:287: DeprecationWarning: `should_run_async` will not call `transform_cell` automatically in the future. Please pass the result to `transformed_cell` argument and any exception that happen during thetransform in `preprocessing_exc_tuple` in IPython 7.17 and above.\n",
      "  and should_run_async(code)\n"
     ]
    }
   ],
   "source": [
    "#which ever record shows the max coherence score for chosen number of topics - corresponding to this score pick alpha and beta\n",
    "max_coh = df[df['Topics'] == 8]['Coherence'].max()"
   ]
  },
  {
   "cell_type": "code",
   "execution_count": 25,
   "id": "284ce0ec",
   "metadata": {},
   "outputs": [
    {
     "name": "stderr",
     "output_type": "stream",
     "text": [
      "/Users/shreyasravi/opt/anaconda3/lib/python3.8/site-packages/ipykernel/ipkernel.py:287: DeprecationWarning: `should_run_async` will not call `transform_cell` automatically in the future. Please pass the result to `transformed_cell` argument and any exception that happen during thetransform in `preprocessing_exc_tuple` in IPython 7.17 and above.\n",
      "  and should_run_async(code)\n"
     ]
    },
    {
     "data": {
      "text/html": [
       "<div>\n",
       "<style scoped>\n",
       "    .dataframe tbody tr th:only-of-type {\n",
       "        vertical-align: middle;\n",
       "    }\n",
       "\n",
       "    .dataframe tbody tr th {\n",
       "        vertical-align: top;\n",
       "    }\n",
       "\n",
       "    .dataframe thead th {\n",
       "        text-align: right;\n",
       "    }\n",
       "</style>\n",
       "<table border=\"1\" class=\"dataframe\">\n",
       "  <thead>\n",
       "    <tr style=\"text-align: right;\">\n",
       "      <th></th>\n",
       "      <th>Validation_Set</th>\n",
       "      <th>Topics</th>\n",
       "      <th>Alpha</th>\n",
       "      <th>Beta</th>\n",
       "      <th>Coherence</th>\n",
       "    </tr>\n",
       "  </thead>\n",
       "  <tbody>\n",
       "    <tr>\n",
       "      <th>507</th>\n",
       "      <td>100% Corpus</td>\n",
       "      <td>8</td>\n",
       "      <td>asymmetric</td>\n",
       "      <td>0.61</td>\n",
       "      <td>0.584357</td>\n",
       "    </tr>\n",
       "  </tbody>\n",
       "</table>\n",
       "</div>"
      ],
      "text/plain": [
       "    Validation_Set  Topics       Alpha  Beta  Coherence\n",
       "507    100% Corpus       8  asymmetric  0.61   0.584357"
      ]
     },
     "execution_count": 25,
     "metadata": {},
     "output_type": "execute_result"
    }
   ],
   "source": [
    "df[(df['Coherence']== max_coh) & (df['Topics']==8)]"
   ]
  },
  {
   "cell_type": "code",
   "execution_count": 28,
   "id": "21d80846",
   "metadata": {},
   "outputs": [
    {
     "name": "stderr",
     "output_type": "stream",
     "text": [
      "/Users/shreyasravi/opt/anaconda3/lib/python3.8/site-packages/ipykernel/ipkernel.py:287: DeprecationWarning: `should_run_async` will not call `transform_cell` automatically in the future. Please pass the result to `transformed_cell` argument and any exception that happen during thetransform in `preprocessing_exc_tuple` in IPython 7.17 and above.\n",
      "  and should_run_async(code)\n"
     ]
    }
   ],
   "source": [
    "#final model trained \n",
    "lda_model = gensim.models.LdaMulticore(corpus=corpus,\n",
    "                                      id2word=id2word,\n",
    "                                      num_topics=8,\n",
    "                                       alpha='asymmetric',\n",
    "                                       eta=0.61,\n",
    "                                       random_state=100,\n",
    "                                      chunksize=100,\n",
    "                                      passes=50,\n",
    "                                      per_word_topics=True)"
   ]
  },
  {
   "cell_type": "code",
   "execution_count": 205,
   "id": "2db5b5f3",
   "metadata": {},
   "outputs": [
    {
     "name": "stdout",
     "output_type": "stream",
     "text": [
      "Collecting pyLDAvis\n",
      "  Downloading pyLDAvis-3.3.1.tar.gz (1.7 MB)\n",
      "\u001b[K     |████████████████████████████████| 1.7 MB 1.4 MB/s eta 0:00:01     |█████▌                          | 286 kB 1.4 MB/s eta 0:00:01\n",
      "\u001b[?25h  Installing build dependencies ... \u001b[?25ldone\n",
      "\u001b[?25h  Getting requirements to build wheel ... \u001b[?25ldone\n",
      "\u001b[?25h  Installing backend dependencies ... \u001b[?25ldone\n",
      "\u001b[?25h    Preparing wheel metadata ... \u001b[?25ldone\n",
      "\u001b[?25hRequirement already satisfied: future in /Users/shreyasravi/opt/anaconda3/lib/python3.8/site-packages (from pyLDAvis) (0.18.2)\n",
      "Collecting funcy\n",
      "  Downloading funcy-1.17-py2.py3-none-any.whl (33 kB)\n",
      "Requirement already satisfied: numpy>=1.20.0 in /Users/shreyasravi/opt/anaconda3/lib/python3.8/site-packages (from pyLDAvis) (1.21.1)\n",
      "Requirement already satisfied: scikit-learn in /Users/shreyasravi/opt/anaconda3/lib/python3.8/site-packages (from pyLDAvis) (1.0.1)\n",
      "Requirement already satisfied: jinja2 in /Users/shreyasravi/opt/anaconda3/lib/python3.8/site-packages (from pyLDAvis) (2.11.3)\n",
      "Requirement already satisfied: scipy in /Users/shreyasravi/opt/anaconda3/lib/python3.8/site-packages (from pyLDAvis) (1.7.1)\n",
      "Requirement already satisfied: joblib in /Users/shreyasravi/opt/anaconda3/lib/python3.8/site-packages (from pyLDAvis) (1.1.0)\n",
      "Requirement already satisfied: sklearn in /Users/shreyasravi/opt/anaconda3/lib/python3.8/site-packages (from pyLDAvis) (0.0)\n",
      "Requirement already satisfied: gensim in /Users/shreyasravi/opt/anaconda3/lib/python3.8/site-packages (from pyLDAvis) (4.1.2)\n",
      "Collecting numexpr\n",
      "  Downloading numexpr-2.8.1-cp38-cp38-macosx_10_9_x86_64.whl (98 kB)\n",
      "\u001b[K     |████████████████████████████████| 98 kB 2.9 MB/s eta 0:00:01\n",
      "\u001b[?25hRequirement already satisfied: setuptools in /Users/shreyasravi/opt/anaconda3/lib/python3.8/site-packages (from pyLDAvis) (52.0.0.post20210125)\n",
      "Requirement already satisfied: pandas>=1.2.0 in /Users/shreyasravi/opt/anaconda3/lib/python3.8/site-packages (from pyLDAvis) (1.3.1)\n",
      "Requirement already satisfied: python-dateutil>=2.7.3 in /Users/shreyasravi/opt/anaconda3/lib/python3.8/site-packages (from pandas>=1.2.0->pyLDAvis) (2.8.2)\n",
      "Requirement already satisfied: pytz>=2017.3 in /Users/shreyasravi/opt/anaconda3/lib/python3.8/site-packages (from pandas>=1.2.0->pyLDAvis) (2021.1)\n",
      "Requirement already satisfied: six>=1.5 in /Users/shreyasravi/opt/anaconda3/lib/python3.8/site-packages (from python-dateutil>=2.7.3->pandas>=1.2.0->pyLDAvis) (1.16.0)\n",
      "Requirement already satisfied: smart-open>=1.8.1 in /Users/shreyasravi/opt/anaconda3/lib/python3.8/site-packages (from gensim->pyLDAvis) (5.2.1)\n",
      "Requirement already satisfied: MarkupSafe>=0.23 in /Users/shreyasravi/opt/anaconda3/lib/python3.8/site-packages (from jinja2->pyLDAvis) (2.0.1)\n",
      "Requirement already satisfied: packaging in /Users/shreyasravi/opt/anaconda3/lib/python3.8/site-packages (from numexpr->pyLDAvis) (21.0)\n",
      "Requirement already satisfied: pyparsing>=2.0.2 in /Users/shreyasravi/opt/anaconda3/lib/python3.8/site-packages (from packaging->numexpr->pyLDAvis) (2.4.7)\n",
      "Requirement already satisfied: threadpoolctl>=2.0.0 in /Users/shreyasravi/opt/anaconda3/lib/python3.8/site-packages (from scikit-learn->pyLDAvis) (3.0.0)\n",
      "Building wheels for collected packages: pyLDAvis\n",
      "  Building wheel for pyLDAvis (PEP 517) ... \u001b[?25ldone\n",
      "\u001b[?25h  Created wheel for pyLDAvis: filename=pyLDAvis-3.3.1-py2.py3-none-any.whl size=136898 sha256=fcaf4f0a23269e9fe7b9ebc25a274acc6e39fd0fdc8bd0a295bdeed3a0ff3292\n",
      "  Stored in directory: /Users/shreyasravi/Library/Caches/pip/wheels/90/61/ec/9dbe9efc3acf9c4e37ba70fbbcc3f3a0ebd121060aa593181a\n",
      "Successfully built pyLDAvis\n",
      "Installing collected packages: numexpr, funcy, pyLDAvis\n",
      "Successfully installed funcy-1.17 numexpr-2.8.1 pyLDAvis-3.3.1\n",
      "Note: you may need to restart the kernel to use updated packages.\n"
     ]
    }
   ],
   "source": [
    "# pip install pyLDAvis"
   ]
  },
  {
   "cell_type": "code",
   "execution_count": 29,
   "id": "7dedb7a1",
   "metadata": {},
   "outputs": [
    {
     "name": "stderr",
     "output_type": "stream",
     "text": [
      "/Users/shreyasravi/opt/anaconda3/lib/python3.8/site-packages/ipykernel/ipkernel.py:287: DeprecationWarning: `should_run_async` will not call `transform_cell` automatically in the future. Please pass the result to `transformed_cell` argument and any exception that happen during thetransform in `preprocessing_exc_tuple` in IPython 7.17 and above.\n",
      "  and should_run_async(code)\n",
      "/Users/shreyasravi/opt/anaconda3/lib/python3.8/site-packages/pyLDAvis/_prepare.py:246: FutureWarning: In a future version of pandas all arguments of DataFrame.drop except for the argument 'labels' will be keyword-only\n",
      "  default_term_info = default_term_info.sort_values(\n"
     ]
    },
    {
     "data": {
      "text/html": [
       "\n",
       "<link rel=\"stylesheet\" type=\"text/css\" href=\"https://cdn.jsdelivr.net/gh/bmabey/pyLDAvis@3.3.1/pyLDAvis/js/ldavis.v1.0.0.css\">\n",
       "\n",
       "\n",
       "<div id=\"ldavis_el7005049785443047097693949\"></div>\n",
       "<script type=\"text/javascript\">\n",
       "\n",
       "var ldavis_el7005049785443047097693949_data = {\"mdsDat\": {\"x\": [0.2189289667527748, 0.252117464762179, 0.010093180828526413, -0.05721502631906042, -0.11691116189778968, -0.10490587403338555, -0.10079561720733048, -0.10131193288591382], \"y\": [0.14244032009548716, -0.11479610370921234, -0.07428970635481183, 0.07331269239210966, 0.00219116123385167, -0.010828436959686306, -0.008220876598110395, -0.0098090500996277], \"topics\": [1, 2, 3, 4, 5, 6, 7, 8], \"cluster\": [1, 1, 1, 1, 1, 1, 1, 1], \"Freq\": [45.423799674002865, 38.18789798466409, 6.577077674721286, 5.209096421199728, 2.2431334488142793, 1.0049764389326032, 0.691083014017233, 0.6629353436479093]}, \"tinfo\": {\"Term\": [\"app\", \"login\", \"loan\", \"work\", \"contact\", \"service\", \"permission\", \"pay\", \"call\", \"charge\", \"update\", \"open\", \"access\", \"number\", \"need\", \"unable\", \"issue\", \"otp\", \"use\", \"want\", \"customer_care\", \"able\", \"customer\", \"phone\", \"ask\", \"block\", \"amount\", \"email\", \"card\", \"reply\", \"loan\", \"pay\", \"amount\", \"payment\", \"block\", \"emi\", \"apply\", \"money\", \"deduct\", \"purchase\", \"online\", \"transaction\", \"debit\", \"year\", \"document\", \"service\", \"buy\", \"limit\", \"insurance\", \"bounce\", \"office\", \"charge\", \"fee\", \"rs\", \"fake\", \"status\", \"pende\", \"pre_approved\", \"cheat\", \"cancel\", \"company\", \"finance\", \"product\", \"reason\", \"bajaj\", \"offer\", \"take\", \"card\", \"call\", \"bajaj_finance\", \"customer\", \"bank\", \"tell\", \"due\", \"month\", \"bad\", \"people\", \"never\", \"bajaj_finserv\", \"get\", \"account\", \"time\", \"give\", \"still\", \"say\", \"even\", \"use\", \"show\", \"go\", \"app\", \"day\", \"try\", \"login\", \"work\", \"open\", \"otp\", \"log\", \"error\", \"enter\", \"crash\", \"fix\", \"bug\", \"page\", \"android\", \"sim\", \"password\", \"click\", \"opening\", \"enter_otp\", \"please_fix\", \"manually\", \"valid\", \"fingerprint\", \"version\", \"reinstall\", \"mobile_number\", \"screen\", \"unlock\", \"invalid\", \"internet_connection\", \"parameter\", \"session\", \"unable\", \"view\", \"able\", \"device\", \"update\", \"app\", \"developer\", \"issue\", \"try\", \"problem\", \"mobile\", \"everytime\", \"show\", \"automatically\", \"download\", \"option\", \"read\", \"even\", \"use\", \"time\", \"number\", \"get\", \"bad\", \"application\", \"ask\", \"say\", \"come\", \"detail\", \"give\", \"still\", \"permission\", \"access\", \"location\", \"privacy\", \"mandatory\", \"monitor\", \"camera\", \"contacts_sm\", \"need_access\", \"many_permission\", \"grant\", \"asking_permission\", \"contact_list\", \"sms_contact\", \"storage\", \"personal_information\", \"optional\", \"speed\", \"teamviewer\", \"info\", \"breach\", \"call_log\", \"intrusive\", \"personalize\", \"push\", \"financial_transaction\", \"reference\", \"medium\", \"fixed_deposit\", \"datum\", \"sm\", \"contact\", \"user\", \"collect\", \"force\", \"require\", \"phone\", \"information\", \"allow\", \"want\", \"need\", \"app\", \"read\", \"ask\", \"use\", \"give\", \"uninstall\", \"detail\", \"uninstalled\", \"install\", \"instal\", \"call\", \"message\", \"account\", \"make\", \"application\", \"connect\", \"query\", \"resolution\", \"third_class\", \"speak\", \"customer_service\", \"bot\", \"ivr\", \"ticket\", \"disconnect\", \"communication\", \"raise\", \"automate\", \"support_team\", \"valuable\", \"bit\", \"withdrawal\", \"reachable\", \"voice\", \"human\", \"true\", \"three_day\", \"wecare\", \"write\", \"email_address\", \"subscription\", \"conversation\", \"lack\", \"communicate\", \"idiot\", \"email\", \"solve\", \"level\", \"customer_care\", \"reply\", \"support\", \"executive\", \"link\", \"reach\", \"talk\", \"number\", \"contact\", \"mail\", \"response\", \"mention\", \"resolve\", \"answer\", \"call\", \"issue\", \"way\", \"customer\", \"option\", \"proper\", \"problem\", \"team\", \"service\", \"interest\", \"rate\", \"high\", \"hidden_charge\", \"intrest\", \"hide\", \"price\", \"interest_rate\", \"borrow\", \"heavy\", \"many_hidden\", \"recover\", \"percent\", \"abusive\", \"home_credit\", \"utilize\", \"term\", \"flexi\", \"covid_period\", \"condition\", \"principal\", \"hidden\", \"clarify\", \"compare\", \"abuse\", \"worker\", \"tedious\", \"sum\", \"gang\", \"exorbitant\", \"figure\", \"other\", \"bed\", \"reduce\", \"language\", \"charge\", \"rule\", \"false\", \"cheque_bounce\", \"lot\", \"processing_fee\", \"connection\", \"site\", \"section\", \"active_internet\", \"lone\", \"online_shoppe\", \"next_page\", \"maximum\", \"spite\", \"emandate\", \"within_second\", \"sup\", \"tha\", \"wifi\", \"attemp\", \"moon\", \"prepayment\", \"docment\", \"expiriance\", \"worthy\", \"waist\", \"obtain\", \"dowlnloade\", \"houra\", \"easly\", \"ither\", \"singn\", \"torchal\", \"imternet\", \"availbale\", \"incorrectly\", \"mbps\", \"hopeless\", \"keeps_crashing\", \"blue\", \"cashback\", \"hospital\", \"difficulty\", \"serv\", \"minut\", \"study\", \"turnover\", \"immideately\", \"ws\", \"vconnect\", \"prime\", \"coupan\", \"doctor\", \"wth\", \"atall\", \"waster\", \"sr\", \"alk\", \"arragence\", \"caroli\", \"disapointe\", \"manditory\", \"situvation\", \"steeler\", \"cater\", \"flexipay\", \"dispointend\", \"repet\", \"gas\", \"aftr\", \"wrng\", \"bajaj_fin\", \"somete\", \"recive\", \"aap\", \"smooth\", \"thik\", \"planety\", \"loggin\", \"devloper\", \"discount\", \"loign\", \"war\", \"vulnerable\", \"entering_mobile\", \"numbet\", \"relaunch\", \"clothe\", \"lagging\", \"logged\", \"environment\", \"bat\", \"di\", \"gov\", \"inhone\", \"kiya\", \"krne\", \"liya\", \"liye\", \"maine\", \"mila\", \"nhe\", \"planty\", \"yha\", \"complicate\", \"ka\", \"provision\", \"meal\", \"home_page\", \"sleep\", \"many_bug\", \"quality\"], \"Freq\": [3295.0, 1424.0, 1257.0, 780.0, 356.0, 886.0, 210.0, 789.0, 668.0, 488.0, 1009.0, 597.0, 183.0, 461.0, 401.0, 663.0, 583.0, 472.0, 931.0, 321.0, 209.0, 655.0, 493.0, 297.0, 487.0, 489.0, 470.0, 132.0, 974.0, 175.0, 1255.5618432363003, 787.4702839543065, 468.10040509104, 408.61827799165076, 486.65193549361413, 375.6855385611105, 378.39426649173487, 286.5846526427345, 201.34182688667724, 130.07081116526922, 123.88713381622424, 134.0868603842247, 81.15589066707565, 103.24587446815316, 86.95007209315756, 864.255062725592, 89.16244319752427, 92.24028639012874, 74.14650584088041, 70.98100400299865, 77.76630538243093, 473.95927928257527, 68.95073509084334, 61.16666192558769, 71.77331647451886, 79.59284036159131, 60.12821897032166, 66.10370833463374, 62.921656943207964, 57.4399703335276, 279.15039384859426, 79.15322856977198, 116.29887280896095, 137.6462291375677, 404.6751236380857, 189.99373365064594, 574.1777275167248, 838.3615108147526, 585.9221379157934, 124.2668391312877, 436.0307342219838, 163.44595525456944, 204.2553996676298, 221.1975119440625, 228.31597950821887, 1028.5049587452634, 223.42225368396726, 237.99323231022518, 181.24319355267366, 656.2377647306024, 340.60254076401844, 621.198850625071, 400.2334477268239, 336.86572632709925, 356.5184561318634, 384.34500420256586, 387.24746781018587, 376.3326530989338, 258.09832350012863, 537.7327450690625, 241.09979323501454, 266.6744599591849, 1422.4326812947045, 778.073118556978, 594.8803462874648, 470.1099898925021, 332.3788741462046, 281.44859479398804, 254.2073423947655, 185.54870264891005, 155.9429310135768, 120.23699372539302, 114.96735480544062, 92.11584612419404, 93.17573199110404, 87.45986530511712, 98.18265140066242, 86.51461099839199, 75.84089660248573, 73.81760985048888, 78.71406120052545, 69.96879826373485, 65.26523832072832, 82.05514391920714, 54.727789104280376, 55.41084761138672, 59.875198293550596, 52.257715961422086, 46.86898084692598, 44.69671147214564, 43.622484658507254, 40.28598004485237, 620.308180299351, 74.50920484323147, 595.0984892823739, 150.79759484612518, 866.0591822635072, 2537.4915482032734, 89.85585955881916, 453.9770096334456, 692.1250578752296, 315.7975276354481, 226.18883337699864, 119.14837359394873, 538.0022836609638, 142.49916194276062, 135.69169870242354, 338.17310542119174, 161.6581517896076, 446.15221202668596, 465.75516022620815, 538.041352484796, 267.4380571937053, 453.4708955402636, 555.8632650799167, 263.61526530396725, 255.23189524137334, 270.369737742364, 174.85056587385225, 207.92145239646743, 208.7288223845875, 188.72034747477906, 208.6295693152314, 180.63188462459001, 48.08883515007379, 33.18093146124518, 22.898366007224592, 19.823255264299426, 17.009715306920917, 15.493869933328826, 14.777206239473584, 13.979652640455063, 14.284025562855142, 12.81356801294521, 12.707204582599958, 10.918403133230127, 13.657963132833908, 9.216267291811954, 9.458566442299874, 11.369325118221072, 8.204945040839958, 18.906638303348913, 7.113661176342327, 6.667232573869464, 6.465988718319269, 6.826646180086461, 6.882203119206418, 8.759484667226914, 7.659628950230752, 6.8152218038916885, 6.0208180073894, 58.838518459462904, 58.94007581958055, 152.50751330579078, 52.276652623864585, 31.426864655492473, 24.875049925787735, 40.731161054066355, 78.36294349167478, 42.191316445931314, 55.34872518476599, 76.99040680395301, 88.83006835632187, 218.8304285687701, 46.579948581324864, 65.89494801347178, 77.71124818600423, 53.50962235508624, 22.27339648088039, 42.58816525511624, 19.788906218747172, 22.037314253578664, 23.628792470217693, 31.723770655521417, 24.710833255955727, 26.44118239827993, 21.957227113977336, 21.976167269997855, 69.10848810755016, 54.143209208864576, 31.22027464661035, 30.996274239354527, 30.303577483085853, 21.683467070861624, 16.64881336233968, 12.765500268143464, 10.9408606451094, 11.791381390321154, 10.545308282462507, 39.57544364079986, 8.65427316515504, 7.3007837800192865, 6.636396043199935, 7.224748348161654, 6.440785022933356, 5.080694188537334, 5.7168383905695155, 5.173637164848108, 5.3142690487152295, 6.106412003561717, 7.824675960131819, 43.72119425767605, 4.785390806894754, 4.648387963941204, 5.254691103087206, 6.226825795646239, 5.069552866244438, 8.078770736853334, 65.89687262441505, 44.96584575305084, 8.618289343301226, 58.77789450724998, 51.06152958300635, 43.45691244878376, 40.88767530751793, 33.61499397260463, 21.940493179187214, 23.788117918637454, 59.76199324758462, 50.65642955661735, 31.430182754570552, 36.59727264383345, 16.90861244844995, 25.616709243374977, 19.10195929453829, 49.757127500621486, 40.269576297115044, 22.01999155904259, 34.02964761588683, 28.694319295137873, 18.24877153763152, 26.109573004613452, 19.52506879364995, 20.6975252349449, 54.88390372598079, 33.1786251185744, 35.67962635082166, 12.192084405953235, 10.136140915001672, 7.219260634391274, 5.999571171678797, 6.330860158175792, 5.560169618825265, 5.137028069620643, 4.413898835639708, 4.827386103810433, 4.034595566752758, 3.0152567890968784, 2.485423898550374, 2.803671915040057, 10.320998606734728, 5.437922733852558, 2.4440558426629364, 8.78091877950813, 2.0708646873062757, 2.982771645904755, 2.2682630747652395, 4.38602241959648, 3.4809022975150445, 1.6448382615319528, 1.9728736066353674, 1.5596776844655724, 1.6268049310362023, 1.7575363550258734, 2.3921375494958914, 5.788319813809578, 3.73067464687546, 5.598482707450861, 3.7501095913264106, 12.558301073871004, 2.8413712928638706, 3.5214966778804353, 3.384086726819732, 5.687131874093709, 3.051504179459832, 13.408363119927008, 7.932177420387736, 6.894488449532228, 4.321851627812104, 2.724220966835198, 3.1127510682374164, 1.4911158936908262, 1.378167205142084, 1.1712539098637436, 1.0332354509625974, 1.014704347337636, 1.0622315683095094, 0.8804435745592544, 0.8470333891474491, 0.729628826229888, 0.8240169514916994, 0.8878156109056097, 0.7034708285981017, 0.6479317280953413, 1.0032312733696547, 0.7483988804463801, 0.6238289007999421, 0.5976502297211598, 0.5976502297211598, 0.5731385275851696, 0.6062026624647555, 0.6062026624647555, 0.5654196367392117, 0.5439649631515403, 0.5402242177700644, 0.5686154070873716, 0.6533492623069325, 0.8794720374029171, 0.6990960975087429, 0.6013294141715804, 3.4894163076081197, 1.634665770214444, 0.9658833344046232, 0.9399957290445003, 0.6972322961644922, 0.6985288246766217, 0.7568269575348291, 0.6093466813209658, 0.577809391365179, 0.5909643064181036, 0.5704428885109614, 0.5526053541259431, 0.7668334312739421, 0.41907662033084225, 0.39088608937246594, 0.41181251448052186, 0.4218548054516189, 0.3680602452553664, 0.3680602452553664, 0.3680602452553664, 0.3680602452553664, 0.3680602452553664, 0.3680602452553664, 0.3680602452553664, 0.3536377871900656, 0.3536377871900656, 0.3492563564228481, 0.3492563564228481, 0.3455505563303998, 0.4018425687894633, 0.3905065925705177, 0.9195886735451045, 0.39998149435843133, 0.44732239749378944, 5.290197695449952, 1.4421150009916894, 0.7967790273995154, 0.6315645042460425, 0.5991477483715193, 0.6862264133272583, 0.4834337217489953, 0.4641691126874715, 0.4641691126874715, 0.6260360590929549, 0.43827359693504475, 0.43827359693504475, 0.4193602239446691, 0.41267635909722333, 0.3806705024530435, 0.3806705024530435, 0.5687986334844214, 0.3611325035376073, 0.3611325035376073, 0.3611325035376073, 0.3611325035376073, 0.3611325035376073, 0.3611325035376073, 0.3611325035376073, 0.3611325035376073, 0.3611325035376073, 0.3611325035376073, 0.3611325035376073, 0.3611325035376073, 0.3611325035376073, 0.8740703583140123, 0.423864546234999, 0.4613539964890999, 0.4126919662220414, 0.44766722988834023, 0.4070237388102678, 0.42125974740796196, 0.3847208165129258], \"Total\": [3295.0, 1424.0, 1257.0, 780.0, 356.0, 886.0, 210.0, 789.0, 668.0, 488.0, 1009.0, 597.0, 183.0, 461.0, 401.0, 663.0, 583.0, 472.0, 931.0, 321.0, 209.0, 655.0, 493.0, 297.0, 487.0, 489.0, 470.0, 132.0, 974.0, 175.0, 1257.980924655185, 789.5513681582322, 470.21972044749964, 410.76633283029946, 489.3218094281171, 377.88733493647374, 380.63731988273435, 288.70782088018245, 203.4381229781997, 132.37796397950035, 126.16539569767008, 136.79956994930043, 83.21382345630319, 105.88015256508342, 89.18862183732436, 886.8048503654858, 91.59928727765106, 94.81838382392397, 76.24128016687374, 73.04481600912216, 80.07798629094263, 488.3095550855882, 71.14083601822585, 63.17349725070443, 74.14985800087901, 82.34782854355508, 62.28951720785919, 68.49464415048564, 65.25818201990431, 59.62421819581501, 290.1966776723953, 82.16628595354916, 121.97605328708808, 145.348177490624, 442.41314570615566, 203.88719352097397, 646.0523539152156, 974.385835497446, 668.6864323163597, 131.4043999328777, 493.0624252497901, 175.68106752376016, 222.72071049463716, 244.09028326951736, 264.02900486925074, 1586.3125624291267, 267.5975130780676, 293.15929494900035, 210.42805831789485, 1112.157441216937, 503.15487775576514, 1161.0578243166276, 663.9999466831176, 527.3588094952505, 629.2698386783754, 846.4637467455069, 931.9061493772389, 915.9148148638515, 387.3937787849706, 3295.259615120441, 335.37351878954814, 960.5753887448807, 1424.5805510725477, 780.9575064901757, 597.2655371422418, 472.2055868490394, 334.8045927046859, 283.7748156932275, 256.3096628646142, 187.6021927522619, 158.4684766988328, 122.3193811056632, 117.33768061857752, 94.15215053518617, 95.25292888600474, 89.56691953374964, 100.61152582216329, 88.72175635796346, 77.86182535159384, 75.85942561022871, 80.95027902584611, 72.11052495754218, 67.26692109989476, 84.68201713157976, 56.7446319040452, 57.463895760232575, 62.144924344838664, 54.56418709945662, 48.95739956054212, 46.72261379847217, 45.741586305227216, 42.33261435687485, 663.8000308775497, 78.43148319327814, 655.8563587769216, 163.14681012237855, 1009.4574119450868, 3295.259615120441, 97.6190999639123, 583.864850437271, 960.5753887448807, 421.1305865160467, 291.0048389420908, 138.09378301575202, 915.9148148638515, 174.4374534697645, 165.67323042219323, 553.5191850952551, 210.06949654410096, 846.4637467455069, 931.9061493772389, 1161.0578243166276, 461.48755656572456, 1112.157441216937, 1586.3125624291267, 476.97754217389235, 487.81860782680195, 629.2698386783754, 258.76429888039144, 456.6980428801255, 663.9999466831176, 527.3588094952505, 210.86092586896982, 183.0015744093766, 50.27103422439919, 35.32024340067791, 25.299714104436287, 21.977543465979164, 19.162418958745565, 17.634876631916956, 16.921445809671717, 16.128327956533525, 16.49642616967435, 14.968255221338158, 14.84800632511514, 13.056490160765843, 16.33809414358615, 11.364267372283685, 11.677030543137974, 14.08982398885299, 10.388457095049127, 24.403960584312024, 9.261193150008307, 8.805011348301335, 8.666299170381597, 9.171079395396973, 9.31419923389705, 11.887822283612856, 10.437516813052001, 9.50917416452765, 8.527036562666206, 83.94692744444691, 113.6144346060107, 356.64122350738535, 125.802273896066, 69.6558469823403, 51.9275291240329, 105.9223597324131, 297.89899536753217, 122.15402776526142, 186.58893114750435, 321.08302791199725, 401.49256833728214, 3295.259615120441, 210.06949654410096, 487.81860782680195, 931.9061493772389, 663.9999466831176, 67.18984160013068, 456.6980428801255, 47.91538430517337, 82.04448654593357, 136.6669278501516, 668.6864323163597, 195.86932636911686, 503.15487775576514, 281.5144474274353, 476.97754217389235, 71.64269088327669, 56.57806054584328, 33.69150157727758, 33.48872157212193, 32.82361272936667, 24.26032989652174, 19.174751486782615, 15.11120469019477, 13.171998158282127, 14.234723338275222, 12.904197851982309, 49.02767135304217, 11.046717059291826, 9.616942851745636, 8.859430335599491, 9.827556343818202, 8.817801923327492, 7.291315551758056, 8.234648657716061, 7.455837170751833, 7.661565568091023, 8.870866412172488, 11.40360618811223, 64.506609079028, 7.090185665600824, 6.960999270682551, 7.939060556531769, 9.438221005923161, 7.720902268972302, 12.582238349431357, 132.95295121600444, 106.68712989215088, 15.51249610542224, 209.78111672778277, 175.30924485041572, 147.2855246083162, 152.5945315714078, 123.61175449720547, 70.26946162512816, 86.57062268672215, 461.48755656572456, 356.64122350738535, 155.9109393837603, 236.60879867613642, 53.455897190842805, 123.32119531097587, 74.10951485797871, 668.6864323163597, 583.864850437271, 111.45799542056572, 493.0624252497901, 553.5191850952551, 74.89443020119572, 421.1305865160467, 134.61936430957198, 886.8048503654858, 57.66551000975273, 35.65106133212515, 38.44168333355078, 15.056874771646502, 12.801158597935615, 9.815612823783452, 8.432701615029583, 8.984053606665384, 8.382778373800186, 7.836687126601211, 6.931932108408239, 7.666526329357295, 6.647160724311198, 5.5153272870983345, 4.895957527161555, 5.658614692476891, 20.937872623417647, 11.088231699636754, 5.050612877423689, 18.2424099198771, 4.399461638652256, 6.390581157754741, 5.12719304498256, 10.388994875676989, 8.393894153973722, 3.9905997717270534, 4.84507997298758, 3.8976182283786174, 4.067304114456473, 4.549245191713415, 6.434575320875953, 17.814367618203775, 10.865602075412879, 21.86943254129301, 15.58494078029433, 488.3095550855882, 10.223733125714398, 18.636152055114263, 18.099354480177105, 124.8382162291672, 28.819578497524464, 17.847495028444367, 10.97222357321937, 9.585988564047831, 6.83938380208068, 5.199712581505872, 5.980056205577529, 4.317786618671113, 4.058595478781941, 3.6952162382284413, 3.531990134348656, 3.524934286132218, 3.900768874122585, 3.351417744825904, 3.3496574531000762, 3.191813036858477, 3.6836103494846633, 3.989824642769468, 3.208426169116792, 3.114581347273211, 4.830951313170231, 3.6495547745843706, 3.19007350052721, 3.076233307785137, 3.076233307785137, 2.982538485277198, 3.206703119840613, 3.206703119840613, 3.00375563896186, 3.0557961952781407, 3.065671385288849, 3.3098979873644585, 5.438534926449227, 14.701160900164078, 10.379187552283767, 4.967077445691903, 6.1781885330670745, 4.140175561658714, 3.550210889872447, 3.5570578735311886, 3.1884362507326234, 3.232054239322326, 3.7220925203845154, 3.1281526049004325, 3.019895813497769, 3.203750967969016, 3.1077824824771594, 3.0838855873532336, 5.026126019564985, 2.8585433331796875, 2.8416502535241412, 3.2023032311573223, 3.2860836618227083, 2.8962170984070563, 2.8962170984070563, 2.8962170984070563, 2.8962170984070563, 2.8962170984070563, 2.8962170984070563, 2.8962170984070563, 2.841824185509352, 2.841824185509352, 2.8404694830013595, 2.8404694830013595, 2.8384876180303364, 3.310516181116874, 3.264524635709103, 13.981090009804257, 3.61809243455049, 19.60966593815835, 8.087507978872669, 4.265896009981838, 3.745293042767924, 3.1311546051343715, 3.1010685840645364, 3.87453508903657, 2.953418287200049, 2.8772281354862703, 2.8772281354862703, 4.182367955567348, 2.971110837805709, 2.971110837805709, 2.8982629701451756, 3.093016047453667, 2.902403006294639, 2.902403006294639, 4.4117822278106535, 2.8432784062065397, 2.8432784062065397, 2.8432784062065397, 2.8432784062065397, 2.8432784062065397, 2.8432784062065397, 2.8432784062065397, 2.8432784062065397, 2.8432784062065397, 2.8432784062065397, 2.8432784062065397, 2.8432784062065397, 2.8432784062065397, 7.215624655116244, 3.4760350754484444, 4.602237309552012, 4.4376538052062, 6.305293142999076, 6.251034043514841, 15.27705032456564, 16.46642279411513], \"Category\": [\"Default\", \"Default\", \"Default\", \"Default\", \"Default\", \"Default\", \"Default\", \"Default\", \"Default\", \"Default\", \"Default\", \"Default\", \"Default\", \"Default\", \"Default\", \"Default\", \"Default\", \"Default\", \"Default\", \"Default\", \"Default\", \"Default\", \"Default\", \"Default\", \"Default\", \"Default\", \"Default\", \"Default\", \"Default\", \"Default\", \"Topic1\", \"Topic1\", \"Topic1\", \"Topic1\", \"Topic1\", \"Topic1\", \"Topic1\", \"Topic1\", \"Topic1\", \"Topic1\", \"Topic1\", \"Topic1\", \"Topic1\", \"Topic1\", \"Topic1\", \"Topic1\", \"Topic1\", \"Topic1\", \"Topic1\", \"Topic1\", \"Topic1\", \"Topic1\", \"Topic1\", \"Topic1\", \"Topic1\", \"Topic1\", \"Topic1\", \"Topic1\", \"Topic1\", \"Topic1\", \"Topic1\", \"Topic1\", \"Topic1\", \"Topic1\", \"Topic1\", \"Topic1\", \"Topic1\", \"Topic1\", \"Topic1\", \"Topic1\", \"Topic1\", \"Topic1\", \"Topic1\", \"Topic1\", \"Topic1\", \"Topic1\", \"Topic1\", \"Topic1\", \"Topic1\", \"Topic1\", \"Topic1\", \"Topic1\", \"Topic1\", \"Topic1\", \"Topic1\", \"Topic1\", \"Topic1\", \"Topic1\", \"Topic1\", \"Topic1\", \"Topic1\", \"Topic1\", \"Topic2\", \"Topic2\", \"Topic2\", \"Topic2\", \"Topic2\", \"Topic2\", \"Topic2\", \"Topic2\", \"Topic2\", \"Topic2\", \"Topic2\", \"Topic2\", \"Topic2\", \"Topic2\", \"Topic2\", \"Topic2\", \"Topic2\", \"Topic2\", \"Topic2\", \"Topic2\", \"Topic2\", \"Topic2\", \"Topic2\", \"Topic2\", \"Topic2\", \"Topic2\", \"Topic2\", \"Topic2\", \"Topic2\", \"Topic2\", \"Topic2\", \"Topic2\", \"Topic2\", \"Topic2\", \"Topic2\", \"Topic2\", \"Topic2\", \"Topic2\", \"Topic2\", \"Topic2\", \"Topic2\", \"Topic2\", \"Topic2\", \"Topic2\", \"Topic2\", \"Topic2\", \"Topic2\", \"Topic2\", \"Topic2\", \"Topic2\", \"Topic2\", \"Topic2\", \"Topic2\", \"Topic2\", \"Topic2\", \"Topic2\", \"Topic2\", \"Topic2\", \"Topic2\", \"Topic2\", \"Topic3\", \"Topic3\", \"Topic3\", \"Topic3\", \"Topic3\", \"Topic3\", \"Topic3\", \"Topic3\", \"Topic3\", \"Topic3\", \"Topic3\", \"Topic3\", \"Topic3\", \"Topic3\", \"Topic3\", \"Topic3\", \"Topic3\", \"Topic3\", \"Topic3\", \"Topic3\", \"Topic3\", \"Topic3\", \"Topic3\", \"Topic3\", \"Topic3\", \"Topic3\", \"Topic3\", \"Topic3\", \"Topic3\", \"Topic3\", \"Topic3\", \"Topic3\", \"Topic3\", \"Topic3\", \"Topic3\", \"Topic3\", \"Topic3\", \"Topic3\", \"Topic3\", \"Topic3\", \"Topic3\", \"Topic3\", \"Topic3\", \"Topic3\", \"Topic3\", \"Topic3\", \"Topic3\", \"Topic3\", \"Topic3\", \"Topic3\", \"Topic3\", \"Topic3\", \"Topic3\", \"Topic3\", \"Topic3\", \"Topic3\", \"Topic4\", \"Topic4\", \"Topic4\", \"Topic4\", \"Topic4\", \"Topic4\", \"Topic4\", \"Topic4\", \"Topic4\", \"Topic4\", \"Topic4\", \"Topic4\", \"Topic4\", \"Topic4\", \"Topic4\", \"Topic4\", \"Topic4\", \"Topic4\", \"Topic4\", \"Topic4\", \"Topic4\", \"Topic4\", \"Topic4\", \"Topic4\", \"Topic4\", \"Topic4\", \"Topic4\", \"Topic4\", \"Topic4\", \"Topic4\", \"Topic4\", \"Topic4\", \"Topic4\", \"Topic4\", \"Topic4\", \"Topic4\", \"Topic4\", \"Topic4\", \"Topic4\", \"Topic4\", \"Topic4\", \"Topic4\", \"Topic4\", \"Topic4\", \"Topic4\", \"Topic4\", \"Topic4\", \"Topic4\", \"Topic4\", \"Topic4\", \"Topic4\", \"Topic4\", \"Topic4\", \"Topic4\", \"Topic4\", \"Topic4\", \"Topic5\", \"Topic5\", \"Topic5\", \"Topic5\", \"Topic5\", \"Topic5\", \"Topic5\", \"Topic5\", \"Topic5\", \"Topic5\", \"Topic5\", \"Topic5\", \"Topic5\", \"Topic5\", \"Topic5\", \"Topic5\", \"Topic5\", \"Topic5\", \"Topic5\", \"Topic5\", \"Topic5\", \"Topic5\", \"Topic5\", \"Topic5\", \"Topic5\", \"Topic5\", \"Topic5\", \"Topic5\", \"Topic5\", \"Topic5\", \"Topic5\", \"Topic5\", \"Topic5\", \"Topic5\", \"Topic5\", \"Topic5\", \"Topic5\", \"Topic5\", \"Topic5\", \"Topic5\", \"Topic5\", \"Topic6\", \"Topic6\", \"Topic6\", \"Topic6\", \"Topic6\", \"Topic6\", \"Topic6\", \"Topic6\", \"Topic6\", \"Topic6\", \"Topic6\", \"Topic6\", \"Topic6\", \"Topic6\", \"Topic6\", \"Topic6\", \"Topic6\", \"Topic6\", \"Topic6\", \"Topic6\", \"Topic6\", \"Topic6\", \"Topic6\", \"Topic6\", \"Topic6\", \"Topic6\", \"Topic6\", \"Topic6\", \"Topic6\", \"Topic6\", \"Topic6\", \"Topic6\", \"Topic6\", \"Topic6\", \"Topic6\", \"Topic7\", \"Topic7\", \"Topic7\", \"Topic7\", \"Topic7\", \"Topic7\", \"Topic7\", \"Topic7\", \"Topic7\", \"Topic7\", \"Topic7\", \"Topic7\", \"Topic7\", \"Topic7\", \"Topic7\", \"Topic7\", \"Topic7\", \"Topic7\", \"Topic7\", \"Topic7\", \"Topic7\", \"Topic7\", \"Topic7\", \"Topic7\", \"Topic7\", \"Topic7\", \"Topic7\", \"Topic7\", \"Topic7\", \"Topic7\", \"Topic7\", \"Topic7\", \"Topic7\", \"Topic7\", \"Topic8\", \"Topic8\", \"Topic8\", \"Topic8\", \"Topic8\", \"Topic8\", \"Topic8\", \"Topic8\", \"Topic8\", \"Topic8\", \"Topic8\", \"Topic8\", \"Topic8\", \"Topic8\", \"Topic8\", \"Topic8\", \"Topic8\", \"Topic8\", \"Topic8\", \"Topic8\", \"Topic8\", \"Topic8\", \"Topic8\", \"Topic8\", \"Topic8\", \"Topic8\", \"Topic8\", \"Topic8\", \"Topic8\", \"Topic8\", \"Topic8\", \"Topic8\", \"Topic8\", \"Topic8\", \"Topic8\", \"Topic8\", \"Topic8\", \"Topic8\"], \"logprob\": [30.0, 29.0, 28.0, 27.0, 26.0, 25.0, 24.0, 23.0, 22.0, 21.0, 20.0, 19.0, 18.0, 17.0, 16.0, 15.0, 14.0, 13.0, 12.0, 11.0, 10.0, 9.0, 8.0, 7.0, 6.0, 5.0, 4.0, 3.0, 2.0, 1.0, -3.57, -4.0365, -4.5566, -4.6925, -4.5178, -4.7766, -4.7694, -5.0473, -5.4003, -5.8372, -5.8859, -5.8068, -6.3089, -6.0682, -6.24, -3.9434, -6.2149, -6.1809, -6.3993, -6.4429, -6.3516, -4.5442, -6.4719, -6.5917, -6.4318, -6.3284, -6.6088, -6.5141, -6.5634, -6.6546, -5.0736, -6.3339, -5.9491, -5.7806, -4.7022, -5.4583, -4.3524, -3.9739, -4.3321, -5.8829, -4.6276, -5.6088, -5.3859, -5.3063, -5.2746, -3.7695, -5.2962, -5.2331, -5.5055, -4.2188, -4.8746, -4.2737, -4.7133, -4.8856, -4.8289, -4.7538, -4.7462, -4.7748, -5.152, -4.418, -5.2201, -5.1193, -3.2717, -3.875, -4.1434, -4.3788, -4.7255, -4.8918, -4.9936, -5.3085, -5.4823, -5.7423, -5.7871, -6.0087, -5.9973, -6.0606, -5.945, -6.0715, -6.2032, -6.2302, -6.166, -6.2837, -6.3533, -6.1244, -6.5294, -6.517, -6.4395, -6.5756, -6.6844, -6.7319, -6.7562, -6.8358, -4.1016, -6.2209, -4.1431, -5.5159, -3.7678, -2.6929, -6.0336, -4.4137, -3.992, -4.7767, -5.1104, -5.7514, -4.2439, -5.5725, -5.6214, -4.7082, -5.4463, -4.4311, -4.3881, -4.2439, -4.9429, -4.4149, -4.2113, -4.9573, -4.9896, -4.932, -5.3679, -5.1946, -5.1908, -5.2915, -3.4323, -3.5764, -4.8998, -5.2709, -5.6418, -5.786, -5.9391, -6.0324, -6.0798, -6.1353, -6.1137, -6.2224, -6.2307, -6.3824, -6.1585, -6.5519, -6.5259, -6.3419, -6.6681, -5.8334, -6.8108, -6.8757, -6.9063, -6.852, -6.8439, -6.6027, -6.7369, -6.8537, -6.9776, -4.6981, -4.6963, -3.7457, -4.8163, -5.3252, -5.559, -5.0659, -4.4115, -5.0307, -4.7592, -4.4292, -4.2861, -3.3846, -4.9317, -4.5848, -4.4199, -4.793, -5.6695, -5.0213, -5.7877, -5.6801, -5.6104, -5.3158, -5.5656, -5.4979, -5.6838, -5.6829, -4.304, -4.548, -5.0986, -5.1058, -5.1284, -5.4631, -5.7273, -5.9929, -6.1472, -6.0723, -6.184, -4.8615, -6.3816, -6.5517, -6.6471, -6.5622, -6.677, -6.9142, -6.7963, -6.8961, -6.8693, -6.7303, -6.4824, -4.7618, -6.9741, -7.0032, -6.8806, -6.7108, -6.9164, -6.4504, -4.3516, -4.7338, -6.3858, -4.4659, -4.6067, -4.7679, -4.8289, -5.0247, -5.4513, -5.3705, -4.4493, -4.6146, -5.0919, -4.9397, -5.7119, -5.2964, -5.5899, -4.6325, -4.8441, -5.4477, -5.0124, -5.183, -5.6356, -5.2774, -5.568, -5.5097, -3.6919, -4.1952, -4.1226, -5.1964, -5.381, -5.7204, -5.9055, -5.8517, -5.9815, -6.0607, -6.2124, -6.1228, -6.3022, -6.5935, -6.7867, -6.6662, -5.363, -6.0038, -6.8035, -5.5246, -6.9692, -6.6043, -6.8781, -6.2187, -6.4499, -7.1995, -7.0177, -7.2527, -7.2105, -7.1332, -6.825, -5.9413, -6.3806, -5.9747, -6.3754, -5.1668, -6.6529, -6.4383, -6.4781, -5.9589, -6.5815, -4.2984, -4.8233, -4.9635, -5.4306, -5.8921, -5.7587, -6.4947, -6.5735, -6.7362, -6.8615, -6.8796, -6.8339, -7.0216, -7.0603, -7.2095, -7.0878, -7.0132, -7.246, -7.3282, -6.891, -7.1841, -7.3661, -7.409, -7.409, -7.4509, -7.3948, -7.3948, -7.4644, -7.5031, -7.51, -7.4588, -7.3199, -7.0227, -7.2522, -7.4029, -5.27, -6.0283, -6.5545, -6.5817, -6.8804, -6.8786, -6.7984, -7.0151, -7.0683, -7.0458, -7.0811, -7.1129, -6.7853, -7.3895, -7.4591, -7.407, -7.3829, -7.5193, -7.5193, -7.5193, -7.5193, -7.5193, -7.5193, -7.5193, -7.5593, -7.5593, -7.5717, -7.5717, -7.5824, -7.4315, -7.4601, -6.6036, -7.4361, -7.3243, -4.8123, -6.1121, -6.7054, -6.9378, -6.9904, -6.8547, -7.205, -7.2457, -7.2457, -6.9465, -7.3031, -7.3031, -7.3472, -7.3633, -7.444, -7.444, -7.0424, -7.4967, -7.4967, -7.4967, -7.4967, -7.4967, -7.4967, -7.4967, -7.4967, -7.4967, -7.4967, -7.4967, -7.4967, -7.4967, -6.6128, -7.3365, -7.2518, -7.3633, -7.2819, -7.3771, -7.3427, -7.4334], \"loglift\": [30.0, 29.0, 28.0, 27.0, 26.0, 25.0, 24.0, 23.0, 22.0, 21.0, 20.0, 19.0, 18.0, 17.0, 16.0, 15.0, 14.0, 13.0, 12.0, 11.0, 10.0, 9.0, 8.0, 7.0, 6.0, 5.0, 4.0, 3.0, 2.0, 1.0, 0.7872, 0.7865, 0.7846, 0.7839, 0.7837, 0.7833, 0.7832, 0.7818, 0.7788, 0.7716, 0.7709, 0.7691, 0.7641, 0.7639, 0.7637, 0.7634, 0.7622, 0.7616, 0.7613, 0.7605, 0.7598, 0.7593, 0.7579, 0.7569, 0.7566, 0.7551, 0.7538, 0.7536, 0.7527, 0.7518, 0.7503, 0.7518, 0.7415, 0.7347, 0.7, 0.7186, 0.6712, 0.6388, 0.657, 0.7333, 0.6662, 0.7169, 0.7026, 0.6907, 0.6438, 0.3558, 0.6087, 0.5807, 0.6398, 0.2616, 0.399, 0.1637, 0.2829, 0.3409, 0.221, -0.0004, -0.089, -0.1003, 0.383, -1.0237, 0.4591, -0.4924, 0.9611, 0.959, 0.9587, 0.9582, 0.9554, 0.9544, 0.9544, 0.9516, 0.9466, 0.9455, 0.9422, 0.9408, 0.9406, 0.9388, 0.9382, 0.9375, 0.9364, 0.9354, 0.9346, 0.9325, 0.9324, 0.9311, 0.9265, 0.9263, 0.9254, 0.9195, 0.9191, 0.9183, 0.9152, 0.9131, 0.8949, 0.9113, 0.8654, 0.8839, 0.8094, 0.7013, 0.8798, 0.711, 0.6349, 0.6748, 0.7107, 0.8151, 0.4306, 0.7604, 0.763, 0.4699, 0.7007, 0.3222, 0.2691, 0.1935, 0.4171, 0.0655, -0.086, 0.3697, 0.3149, 0.1179, 0.5707, 0.1758, -0.1946, -0.065, 2.7109, 2.7085, 2.6772, 2.6591, 2.6219, 2.6184, 2.6024, 2.5921, 2.5861, 2.5786, 2.5776, 2.5662, 2.5659, 2.5427, 2.5424, 2.5121, 2.5109, 2.507, 2.4856, 2.4663, 2.4578, 2.4435, 2.4287, 2.4264, 2.419, 2.4162, 2.4121, 2.3885, 2.3736, 2.3662, 2.0653, 1.8721, 1.8434, 1.9257, 1.9856, 1.7659, 1.3862, 1.6585, 1.5063, 1.2936, 1.2131, 0.0096, 1.2153, 0.7197, 0.2373, 0.2032, 1.6175, 0.3491, 1.8373, 1.4071, 0.9665, -0.3267, 0.6514, -0.2244, 0.1705, -0.3559, 2.9188, 2.9108, 2.8786, 2.8774, 2.8749, 2.8425, 2.8135, 2.7861, 2.7692, 2.7664, 2.7529, 2.7406, 2.7107, 2.6792, 2.6659, 2.6471, 2.6406, 2.5935, 2.5898, 2.5893, 2.5889, 2.5813, 2.5781, 2.5658, 2.5616, 2.551, 2.5421, 2.5389, 2.5341, 2.5117, 2.2529, 2.0908, 2.367, 1.6825, 1.7212, 1.7342, 1.6378, 1.6526, 1.7908, 1.663, 0.9107, 1.0031, 1.3532, 1.0883, 1.8037, 1.3832, 1.599, 0.3566, 0.2807, 1.3331, 0.2814, -0.0048, 1.5428, 0.1741, 1.024, -0.8028, 3.7479, 3.7254, 3.7227, 3.5862, 3.5639, 3.4901, 3.4569, 3.4473, 3.3867, 3.375, 3.3459, 3.3347, 3.298, 3.1935, 3.1193, 3.095, 3.0899, 3.0848, 3.0714, 3.0661, 3.0438, 3.0353, 2.9818, 2.935, 2.9171, 2.911, 2.8988, 2.8814, 2.8809, 2.8462, 2.8078, 2.6731, 2.7283, 2.4347, 2.3728, 0.1367, 2.5169, 2.1311, 2.1205, 0.7085, 1.5519, 4.3142, 4.2758, 4.2706, 4.1412, 3.9538, 3.9473, 3.537, 3.5201, 3.4512, 3.371, 3.3549, 3.2994, 3.2635, 3.2253, 3.1244, 3.1027, 3.0975, 3.0827, 3.0301, 3.0284, 3.0158, 2.9683, 2.9618, 2.9618, 2.9508, 2.9344, 2.9344, 2.9302, 2.8743, 2.8642, 2.8387, 2.4811, 1.7838, 1.9024, 2.4888, 4.4034, 4.0454, 3.6729, 3.6439, 3.4545, 3.4428, 3.3818, 3.3389, 3.3209, 3.2843, 3.2794, 3.2554, 3.0945, 3.0547, 2.9909, 2.9236, 2.9219, 2.9118, 2.9118, 2.9118, 2.9118, 2.9118, 2.9118, 2.9118, 2.8907, 2.8907, 2.8787, 2.8787, 2.8688, 2.8659, 2.8512, 2.2531, 2.7724, 1.1942, 4.5918, 3.9317, 3.4686, 3.4153, 3.3723, 3.2853, 3.2064, 3.1919, 3.1919, 3.117, 3.1024, 3.1024, 3.0831, 3.002, 2.9849, 2.9849, 2.9677, 2.9528, 2.9528, 2.9528, 2.9528, 2.9528, 2.9528, 2.9528, 2.9528, 2.9528, 2.9528, 2.9528, 2.9528, 2.9528, 2.9054, 2.912, 2.7161, 2.6411, 2.3712, 2.2846, 1.4254, 1.2597]}, \"token.table\": {\"Topic\": [1, 2, 3, 8, 1, 2, 3, 4, 1, 2, 3, 5, 1, 2, 5, 1, 2, 3, 1, 2, 3, 1, 2, 6, 1, 2, 1, 2, 1, 2, 3, 1, 2, 1, 2, 1, 2, 3, 4, 1, 2, 3, 4, 1, 2, 3, 1, 2, 1, 2, 1, 2, 3, 4, 1, 2, 3, 1, 2, 1, 2, 6, 1, 2, 4, 1, 2, 4, 1, 2, 6, 1, 2, 3, 4, 1, 2, 3, 4, 1, 2, 4, 7, 1, 2, 3, 4, 1, 2, 3, 4, 1, 2, 3, 1, 2, 1, 2, 5, 1, 2, 4, 1, 2, 1, 2, 6, 1, 2, 3, 5, 1, 2, 3, 4, 1, 2, 1, 2, 3, 1, 2, 1, 2, 1, 2, 3, 4, 1, 2, 3, 1, 2, 3, 1, 2, 4, 1, 2, 1, 2, 1, 2, 7, 1, 2, 1, 2, 5, 1, 2, 4, 1, 2, 5, 1, 2, 4, 5, 1, 2, 1, 2, 1, 2, 3, 1, 2, 4, 1, 2, 4, 5, 1, 2, 4, 1, 2, 3, 4, 1, 2, 5, 1, 2, 8, 1, 2, 3, 4, 5, 1, 2, 4, 1, 2, 3, 6, 1, 2, 3, 4, 1, 2, 3, 1, 2, 3, 1, 2, 4, 1, 2, 7, 1, 2, 5, 1, 2, 1, 2, 3, 4, 1, 2, 4, 1, 2, 4, 1, 2, 3, 1, 2, 1, 2, 1, 2, 1, 2, 3, 1, 2, 3, 4, 1, 2, 3, 1, 2, 4, 5, 8, 1, 2, 1, 2, 7, 1, 2, 1, 2, 4, 1, 2, 1, 2, 1, 2, 6, 1, 2, 5, 7, 1, 2, 1, 2, 6, 1, 2, 3, 1, 2, 3, 1, 2, 6, 1, 2, 4, 1, 2, 4, 1, 2, 6, 1, 2, 1, 2, 1, 2, 1, 2, 1, 2, 3, 8, 1, 2, 1, 2, 3, 4, 1, 2, 4, 1, 2, 4, 1, 2, 3, 5, 1, 2, 6, 1, 2, 1, 2, 5, 1, 2, 1, 2, 5, 1, 2, 3, 4, 1, 2, 3, 1, 2, 1, 2, 3, 1, 2, 3, 1, 2, 4, 5, 1, 2, 1, 2, 3, 1, 2, 5, 1, 2, 1, 2, 3, 4, 1, 2, 3, 4, 1, 2, 3, 4, 1, 2, 1, 2, 3, 1, 2, 5, 1, 2, 4, 5, 1, 2, 5, 1, 2, 4, 5, 1, 2, 4, 5, 1, 2, 5, 1, 2, 1, 2, 6, 1, 2, 7, 1, 2, 6, 1, 2, 4, 1, 2, 3, 4, 1, 2, 7, 1, 2, 6, 1, 2, 6, 1, 2, 3, 4, 1, 2, 3, 4, 1, 2, 1, 2, 3, 1, 2, 3, 1, 2, 1, 2, 5, 1, 2, 5, 1, 2, 1, 2, 5, 1, 2, 3, 1, 2, 1, 2, 4, 1, 2, 6, 1, 2, 4, 1, 2, 4, 1, 2, 3, 6, 1, 2, 1, 2, 1, 2, 4, 1, 2, 1, 2, 3, 5, 1, 2, 4, 1, 2, 4, 1, 2, 3, 4, 1, 2, 1, 2, 1, 2, 3, 1, 2, 3, 1, 2, 3, 1, 2, 1, 2, 8, 1, 2, 1, 2, 1, 2, 6, 1, 2, 3, 5, 1, 2, 4, 1, 2, 1, 2, 3, 4, 1, 2, 3, 1, 2, 1, 2, 3, 1, 2, 1, 2, 5, 1, 2, 3, 1, 2, 6, 1, 2, 3, 6, 1, 2, 1, 2, 3, 1, 2, 3, 4, 1, 2, 3, 1, 2, 1, 2, 7, 1, 2, 3, 1, 2, 1, 2, 1, 2, 3, 1, 2, 1, 2, 6, 1, 2, 3, 4, 1, 2, 3, 1, 2, 3, 4, 1, 2, 6, 1, 2, 1, 2, 4, 1, 2, 1, 2, 6, 1, 2, 3, 1, 2, 4, 1, 2, 4, 1, 2, 6, 1, 2, 3, 1, 2, 1, 2, 3, 4, 1, 2, 3, 1, 2, 3, 5, 1, 2, 1, 2, 1, 2, 3, 1, 2, 1, 2, 1, 2, 1, 2, 1, 2, 3, 4, 1, 2, 5, 1, 2, 3, 1, 2, 3, 1, 2, 3, 1, 2, 3, 4, 1, 2, 8, 1, 2, 1, 2, 1, 2, 3, 1, 2, 4, 6, 1, 2, 5, 1, 2, 7, 1, 2, 5, 1, 2, 3, 1, 2, 4, 1, 2, 5, 1, 2, 3, 4, 1, 2, 4, 1, 2, 4, 1, 2, 1, 2, 3, 1, 2, 4, 5, 1, 2, 4, 1, 2, 4, 1, 2, 5, 1, 2, 4, 1, 2, 4, 1, 2, 3, 1, 2, 3, 1, 2, 4, 1, 2, 5, 1, 2, 5, 1, 2, 3, 4, 1, 2, 1, 2, 1, 2, 1, 2, 3, 4, 1, 2, 3, 1, 2, 4, 1, 2, 4, 1, 2, 4, 1, 2, 1, 2, 3, 5, 1, 2, 3, 4, 1, 2, 3, 1, 2, 6, 1, 2, 7, 1, 2, 4, 1, 2, 1, 2, 1, 2, 1, 2, 6, 1, 2, 6, 1, 2, 1, 2, 4, 1, 2, 3, 4, 1, 2, 8, 1, 2, 3, 1, 2, 4, 1, 2, 1, 2, 4, 1, 2, 3, 1, 2, 6, 1, 2, 1, 2, 4, 1, 2, 1, 2, 3, 4, 1, 2, 3, 4, 1, 2, 7, 1, 2, 4, 1, 2, 5, 1, 2, 6, 1, 2, 4, 1, 2, 4, 1, 2, 3, 4, 1, 2, 4, 1, 2, 3, 4, 1, 2, 3, 1, 2, 4, 5, 1, 2, 4, 1, 2, 3, 5, 1, 2, 6, 1, 2, 8, 1, 2, 4, 1, 2, 4, 1, 2, 4, 1, 2, 4, 1, 2, 6, 1, 2, 1, 2, 4, 1, 2, 3, 4, 1, 2, 7, 1, 2, 4, 1, 2, 3, 1, 2, 3, 1, 2, 1, 2, 3, 1, 2, 3, 4, 1, 2, 3, 1, 2, 5, 1, 2, 1, 2, 4, 1, 2, 7, 1, 2, 3, 1, 2, 3, 1, 2, 3, 4, 1, 2, 3, 8, 1, 2, 4, 6, 1, 2, 3, 4, 1, 2, 1, 2, 1, 2, 3, 4, 1, 2, 4, 1, 2, 6, 1, 2, 4, 1, 2, 6, 1, 2, 3, 4, 1, 2, 5, 1, 2, 4, 6, 1, 2, 4, 1, 2, 1, 2, 7, 1, 2, 1, 2, 1, 2], \"Freq\": [0.12364748234095611, 0.12364748234095611, 0.12364748234095611, 0.6182374117047806, 0.08995872222696227, 0.9072108427973313, 0.0015247241055417334, 0.0015247241055417334, 0.11913421609284812, 0.11913421609284812, 0.35740264827854434, 0.35740264827854434, 0.18131290274273268, 0.18131290274273268, 0.543938708228198, 0.0054644338619895625, 0.0054644338619895625, 0.9890625290201108, 0.6777237289658627, 0.26830704812431516, 0.05167395000912737, 0.14621200227069867, 0.14621200227069867, 0.5848480090827947, 0.3020676973893021, 0.3020676973893021, 0.3452779836670422, 0.3452779836670422, 0.05895312188322767, 0.6377655912821902, 0.29476560941613833, 0.9952793973732382, 0.002126665379002646, 0.01062110630841389, 0.9771417803740778, 0.6746772003003734, 0.013493544006007469, 0.053974176024029874, 0.2563773361141419, 0.1632648297364383, 0.7698938160619776, 0.06645910355442376, 0.0003034662262759076, 0.398341605632098, 0.5534851783519678, 0.04612376486266397, 0.993071305032447, 0.0026271727646361032, 0.3452779836670422, 0.3452779836670422, 0.33824047986825173, 0.5227352870691163, 0.1352961919473007, 0.002049942302231829, 0.06680805379203043, 0.06680805379203043, 0.8685046992963956, 0.3519081909393409, 0.3519081909393409, 0.31330155884827265, 0.31330155884827265, 0.31330155884827265, 0.09052463230773715, 0.09052463230773715, 0.8147216907696344, 0.17198141456014746, 0.8140453622513646, 0.0057327138186715814, 0.326192821839507, 0.326192821839507, 0.326192821839507, 0.6486741795855718, 0.3504983905243712, 0.0006303927887128979, 0.0006303927887128979, 0.9154339194726259, 0.07007025062629976, 0.011301653326822541, 0.0022603306653645083, 0.7867769960915949, 0.07152518146287226, 0.07152518146287226, 0.07152518146287226, 0.9436518112280873, 0.007610095251839414, 0.038050476259197066, 0.007610095251839414, 0.8601514524577435, 0.10930101329573536, 0.02376108984689899, 0.004752217969379798, 0.927817677211888, 0.005692132989029987, 0.056921329890299875, 0.3517066769884787, 0.3517066769884787, 0.46016778134312514, 0.09203355626862503, 0.3681342250745001, 0.10175469516682313, 0.10175469516682313, 0.7122828661677619, 0.9952550460997628, 0.0020436448585210735, 0.4026512616054861, 0.20132563080274304, 0.20132563080274304, 0.11929219113384093, 0.11929219113384093, 0.11929219113384093, 0.7157531468030456, 0.052151914494918586, 0.052151914494918586, 0.052151914494918586, 0.886582546413616, 0.9720060078066759, 0.013690225462065858, 0.10797744780855835, 0.10797744780855835, 0.7558421346599085, 0.008175319323567944, 0.9810383188281533, 0.9716232805417773, 0.010917115511705362, 0.8763449827598113, 0.0014954692538563332, 0.04785501612340266, 0.07477346269281666, 0.11357168780854783, 0.11357168780854783, 0.7950018146598348, 0.052185478365381864, 0.052185478365381864, 0.8871531322114917, 0.9559873776927912, 0.016771708380575286, 0.016771708380575286, 0.8600289222925558, 0.1375225245670674, 0.3452779836670422, 0.3452779836670422, 0.16185974167796463, 0.16185974167796463, 0.48557922503389395, 0.3518866526293448, 0.3518866526293448, 0.9706957299185347, 0.0020478812867479636, 0.026622456727723526, 0.9653961855815176, 0.015323748977484408, 0.015323748977484408, 0.7182576601965527, 0.055250589245888666, 0.165751767737666, 0.19503849206118617, 0.19503849206118617, 0.19503849206118617, 0.39007698412237235, 0.009939219108629344, 0.9740434726456757, 0.3233090241556465, 0.3233090241556465, 0.5168266780120699, 0.014356296611446388, 0.445045194954838, 0.316890700745016, 0.6762911296387536, 0.003864520740792878, 0.1295185413780799, 0.1295185413780799, 0.6475927068903995, 0.1295185413780799, 0.07749416209132153, 0.07749416209132153, 0.8524357830045367, 0.9614169336389327, 0.0034459388302470703, 0.020675632981482422, 0.010337816490741211, 0.3850228099895317, 0.09625570249738293, 0.3850228099895317, 0.5543525600605897, 0.13858814001514744, 0.13858814001514744, 0.05481731878584696, 0.21926927514338784, 0.21926927514338784, 0.05481731878584696, 0.4933558690726227, 0.013958158015438623, 0.013958158015438623, 0.963112903065265, 0.05603027194607727, 0.05603027194607727, 0.11206054389215454, 0.7283935352990045, 0.42619862758757154, 0.002803938339391918, 0.42900256592696345, 0.14300085530898782, 0.06734910924091658, 0.06734910924091658, 0.8755384201319156, 0.05670581206052347, 0.05670581206052347, 0.850587180907852, 0.12595948763449874, 0.12595948763449874, 0.6297974381724937, 0.32426624518786284, 0.32426624518786284, 0.32426624518786284, 0.19799577284373032, 0.19799577284373032, 0.39599154568746064, 0.00533042810070216, 0.9914596267306017, 0.8842693697032749, 0.002028140756200172, 0.042590955880203604, 0.06895678571080584, 0.7102641187354634, 0.004766873280103781, 0.2812455235261231, 0.041219554897453076, 0.041219554897453076, 0.9068302077439677, 0.011912288280732661, 0.27398263045685123, 0.702825008563227, 0.7186017574369999, 0.2773027528698796, 0.9733959651852111, 0.012017234138089026, 0.9880154076212109, 0.004915499540404034, 0.44887426866816804, 0.4554431604047754, 0.09415411489137183, 0.010243896946086151, 0.9219507251477537, 0.06146338167651691, 0.010243896946086151, 0.006129448680301423, 0.9255467507255148, 0.06742393548331564, 0.25809548165652485, 0.25809548165652485, 0.25809548165652485, 0.25809548165652485, 0.25809548165652485, 0.3517066769884787, 0.3517066769884787, 0.28167340786787126, 0.28167340786787126, 0.28167340786787126, 0.3452779836670422, 0.3452779836670422, 0.07025075066342434, 0.07025075066342434, 0.8430090079610921, 0.33859071176404115, 0.33859071176404115, 0.3520544776081727, 0.3520544776081727, 0.3116792929897083, 0.3116792929897083, 0.3116792929897083, 0.1989603913844068, 0.1989603913844068, 0.3979207827688136, 0.1989603913844068, 0.9754607505729116, 0.011212192535320823, 0.32507287320154266, 0.32507287320154266, 0.32507287320154266, 0.1267555412934526, 0.8208930293290263, 0.04828782525464861, 0.9054026937892413, 0.08603374013381931, 0.00409684476827711, 0.33528486050937234, 0.33528486050937234, 0.33528486050937234, 0.4888947511544634, 0.0075214577100686675, 0.4964162088645321, 0.14104003014359143, 0.14104003014359143, 0.705200150717957, 0.28312649864873213, 0.28312649864873213, 0.28312649864873213, 0.995005561811721, 0.00264629138779713, 0.0039015306283174027, 0.9909887795926203, 0.012843264275970765, 0.9760880849737782, 0.3365744513047323, 0.3365744513047323, 0.2266657664325036, 0.2266657664325036, 0.4533315328650072, 0.2266657664325036, 0.0035239208862038063, 0.9902217690232696, 0.45365203350575545, 0.5268979347488723, 0.0023627710078424763, 0.015358011550976096, 0.1231047454037873, 0.8617332178265111, 0.007241455611987488, 0.7208646264530433, 0.006553314785936757, 0.26868590622340704, 0.21981668559468495, 0.21981668559468495, 0.21981668559468495, 0.4396333711893699, 0.32107043884902586, 0.32107043884902586, 0.32107043884902586, 0.9710065796639351, 0.013486202495332432, 0.6975688952072298, 0.053659145785171516, 0.21463658314068607, 0.9699070725331737, 0.014056624239611213, 0.31082082348330264, 0.15541041174165132, 0.31082082348330264, 0.961464901123325, 0.012170441786371203, 0.012170441786371203, 0.012170441786371203, 0.08411969628604572, 0.08411969628604572, 0.7570772665744115, 0.014866147931982047, 0.966299615578833, 0.006310403310688008, 0.9844229164673293, 0.006310403310688008, 0.11727403684162499, 0.11727403684162499, 0.70364422104975, 0.27055711688440626, 0.09018570562813542, 0.09018570562813542, 0.4509285281406771, 0.3518866526293448, 0.3518866526293448, 0.48144019986557757, 0.019257607994623102, 0.48144019986557757, 0.24586310043689302, 0.24586310043689302, 0.49172620087378605, 0.35230028612698794, 0.35230028612698794, 0.5898445451052293, 0.4073164312998001, 0.0008991532699774836, 0.0008991532699774836, 0.602409686925612, 0.3147590614186323, 0.08132530773495764, 0.0015060242173140302, 0.6659890120311075, 0.3123436839370698, 0.01806946931867346, 0.0025813527598104943, 0.3517066769884787, 0.3517066769884787, 0.06061919046673978, 0.06061919046673978, 0.8486686665343569, 0.12760494120092583, 0.12760494120092583, 0.6380247060046292, 0.15648029112133813, 0.15648029112133813, 0.15648029112133813, 0.4694408733640144, 0.06641484472482252, 0.06641484472482252, 0.7969781366978703, 0.10187850906027766, 0.10187850906027766, 0.10187850906027766, 0.7131495634219436, 0.026013428999016524, 0.026013428999016524, 0.026013428999016524, 0.9364834439645948, 0.20425013788462187, 0.20425013788462187, 0.40850027576924375, 0.15859690855298691, 0.6343876342119477, 0.8162620681109659, 0.06802183900924716, 0.06802183900924716, 0.24153565111122036, 0.24153565111122036, 0.4830713022224407, 0.32507287320154266, 0.32507287320154266, 0.32507287320154266, 0.13412310074619854, 0.13412310074619854, 0.6706155037309928, 0.07947711466181168, 0.15895422932362335, 0.07947711466181168, 0.6358169172944934, 0.3196774986084253, 0.3196774986084253, 0.3196774986084253, 0.32724695499824696, 0.32724695499824696, 0.32724695499824696, 0.30212411494780256, 0.30212411494780256, 0.30212411494780256, 0.04097695521778729, 0.04097695521778729, 0.7785621491379585, 0.12293086565336188, 0.6057925502235824, 0.008186385813832193, 0.34382820418095217, 0.032745543255328774, 0.3517066769884787, 0.3517066769884787, 0.0073170591871096246, 0.8121935697691683, 0.17560942049063097, 0.012188509455052026, 0.7069335483930175, 0.26814720801114456, 0.970602799927177, 0.01311625405306996, 0.017341388289653106, 0.017341388289653106, 0.9537763559309209, 0.11130832960058111, 0.11130832960058111, 0.6678499776034866, 0.02140291218109677, 0.9631310481493547, 0.07811792911942092, 0.07811792911942092, 0.7811792911942091, 0.11538950829411163, 0.11538950829411163, 0.6923370497646697, 0.020425921494530593, 0.9600183102429379, 0.15243253628531614, 0.7775772075677925, 0.06850900507205221, 0.31184676679695383, 0.31184676679695383, 0.31184676679695383, 0.06617606077752831, 0.06617606077752831, 0.8602887901078681, 0.28768409359936903, 0.28768409359936903, 0.28768409359936903, 0.09634665478031242, 0.7707732382424993, 0.09634665478031242, 0.09634665478031242, 0.3517066769884787, 0.3517066769884787, 0.3517066769884787, 0.3517066769884787, 0.10595217036901639, 0.10595217036901639, 0.6357130222140983, 0.3445420907541895, 0.3445420907541895, 0.5133160345476087, 0.12832900863690216, 0.06416450431845108, 0.25665801727380433, 0.06446415800552303, 0.32232079002761516, 0.5801774220497073, 0.9702759769755446, 0.010546478010603745, 0.010546478010603745, 0.5015704230733304, 0.21033598386946115, 0.008089845533440812, 0.27505474813698766, 0.3517066769884787, 0.3517066769884787, 0.3517066769884787, 0.3517066769884787, 0.9984253142346113, 0.0007949246132441173, 0.0007949246132441173, 0.019892170818213387, 0.019892170818213387, 0.9548241992742426, 0.0029868168531428994, 0.9916231952434426, 0.0029868168531428994, 0.3445420907541895, 0.3445420907541895, 0.3224694884655892, 0.3224694884655892, 0.3224694884655892, 0.0007019610082751118, 0.998188553767209, 0.3475567292236955, 0.3475567292236955, 0.19231832227741966, 0.19231832227741966, 0.576954966832259, 0.4565909520476032, 0.4565909520476032, 0.03204147031913005, 0.04806220547869507, 0.7889119293755708, 0.00641391812500464, 0.19883146187514383, 0.3517066769884787, 0.3517066769884787, 0.6429510160278916, 0.27707281353688146, 0.07814874227963323, 0.003552215558165147, 0.03952613835366032, 0.03952613835366032, 0.9091011821341873, 0.3452779836670422, 0.3452779836670422, 0.012353261928605783, 0.9759076923598569, 0.012353261928605783, 0.0654576622289442, 0.8509496089762746, 0.14425992412519853, 0.14425992412519853, 0.5770396965007941, 0.06200270745331067, 0.06200270745331067, 0.8680379043463493, 0.2463906553949344, 0.2463906553949344, 0.2463906553949344, 0.1838730491803408, 0.5516191475410225, 0.1838730491803408, 0.1838730491803408, 0.45068860433718944, 0.22534430216859472, 0.10516160317373607, 0.10516160317373607, 0.7361312222161526, 0.4489682385147824, 0.1683630894430434, 0.0561210298143478, 0.3180191689479709, 0.43396279333608884, 0.43396279333608884, 0.12763611568708497, 0.3517066769884787, 0.3517066769884787, 0.31363336800923175, 0.31363336800923175, 0.31363336800923175, 0.21305487642539797, 0.7766193882603216, 0.0034363689746031933, 0.017402231205703285, 0.9571227163136806, 0.9940846047226022, 0.003463709424120565, 0.045500990661125604, 0.045500990661125604, 0.9100198132225121, 0.863541488984922, 0.128773730813541, 0.2714727957423347, 0.2714727957423347, 0.2714727957423347, 0.3337546210504961, 0.44334569064916646, 0.22167284532458323, 0.002490706127242508, 0.05909660505655104, 0.05909660505655104, 0.8864490758482656, 0.811845314477932, 0.18078908263584198, 0.003411114766714, 0.003411114766714, 0.23160014338730114, 0.23160014338730114, 0.23160014338730114, 0.3517066769884787, 0.3517066769884787, 0.2881984532578795, 0.5785638121793522, 0.13001433981558475, 0.3365744513047323, 0.3365744513047323, 0.31347240113268054, 0.31347240113268054, 0.31347240113268054, 0.9318878577847246, 0.004904672935709077, 0.05885607522850892, 0.9740504677104042, 0.012487826509107744, 0.012487826509107744, 0.9828368493143793, 0.007926103623503059, 0.007926103623503059, 0.16722250855557372, 0.16722250855557372, 0.5016675256667211, 0.0016742971723845586, 0.9962068175688124, 0.0016742971723845586, 0.011271192558061237, 0.9805937525513276, 0.3306118467574119, 0.6106382743388263, 0.005419866340285441, 0.05239204128942593, 0.08563821052841654, 0.08563821052841654, 0.7707438947557489, 0.05613446524917005, 0.4490757219933604, 0.1122689304983401, 0.3368067914950203, 0.0021177216616026454, 0.9953291809532434, 0.00852241151118914, 0.9800773237867512, 0.021861944037689023, 0.961925537658317, 0.021861944037689023, 0.01116483636152286, 0.9713407634524888, 0.9967685849697357, 0.0012665420393516338, 0.9956999084658937, 0.002434474103828591, 0.9632439403853604, 0.01605406567308934, 0.8333410779305077, 0.1270564872181043, 0.029895644051318664, 0.003736955506414833, 0.15044017159726847, 0.15044017159726847, 0.6017606863890739, 0.004742462340421505, 0.004742462340421505, 0.9911746291480945, 0.08799511374036309, 0.08799511374036309, 0.7919560236632678, 0.10903841924015038, 0.10903841924015038, 0.7632689346810527, 0.14770106876565697, 0.5572358503431605, 0.2618337128118465, 0.026854739775573996, 0.3193710072189443, 0.3193710072189443, 0.3193710072189443, 0.3517066769884787, 0.3517066769884787, 0.013182277508111824, 0.9754885356002749, 0.9635789895483682, 0.01459968165982376, 0.01459968165982376, 0.25063758173238093, 0.25063758173238093, 0.25063758173238093, 0.25063758173238093, 0.11858595805378701, 0.11858595805378701, 0.711515748322722, 0.32177284145154117, 0.32177284145154117, 0.32177284145154117, 0.2273005385964322, 0.2273005385964322, 0.4546010771928644, 0.028312375672383015, 0.028312375672383015, 0.9343083971886395, 0.18521570861257758, 0.750361075917622, 0.06173856953752586, 0.8327672107370184, 0.0346986337807091, 0.1040959013421273, 0.9510063399655785, 0.008198330516944642, 0.008198330516944642, 0.024594991550833927, 0.5474372378541097, 0.18692978853554967, 0.2403382995457067, 0.21728562278274635, 0.21728562278274635, 0.4345712455654927, 0.9820365572334335, 0.007554127363334104, 0.10736296002352112, 0.10736296002352112, 0.7515407201646479, 0.18218893304939057, 0.6680260878477654, 0.06072964434979686, 0.06072964434979686, 0.01767469563912913, 0.01767469563912913, 0.9544335645129729, 0.16317315873301413, 0.020396644841626767, 0.8158657936650706, 0.02804965582045381, 0.02804965582045381, 0.9256386420749757, 0.6546229177818339, 0.014230932995257259, 0.31308052589565966, 0.1371494612873919, 0.1371494612873919, 0.6857473064369595, 0.0047603293978955435, 0.771173362459078, 0.22373548170109053, 0.9494443093990771, 0.006880031227529545, 0.041280187365177266, 0.25497629667777894, 0.6119431120266695, 0.050995259335555786, 0.13043717024367574, 0.13043717024367574, 0.6521858512183787, 0.6401629294022946, 0.04572592352873533, 0.27435554117241195, 0.0958082289026362, 0.0958082289026362, 0.7664658312210896, 0.0958082289026362, 0.017622812351501257, 0.9692546793325691, 0.34503425337898497, 0.34503425337898497, 0.3520544776081727, 0.3520544776081727, 0.5247869276859864, 0.17683037780723454, 0.005704205735717244, 0.2909144925215794, 0.11329052742324719, 0.49092561883407115, 0.38707596869609456, 0.029681075439939014, 0.029681075439939014, 0.9201133386381094, 0.3000295278252701, 0.4784254632889442, 0.21083156009343304, 0.7058063813957527, 0.13524433655487478, 0.15637626414157393, 0.9655947929860699, 0.01582942283583721, 0.3912465193305302, 0.09781162983263254, 0.1956232596652651, 0.29343488949789764, 0.5673241875850741, 0.4290687132996359, 0.001589143382591244, 0.001589143382591244, 0.016091418736807157, 0.9654851242084294, 0.016091418736807157, 0.10431892269833197, 0.10431892269833197, 0.7302324588883238, 0.28113121449083217, 0.28113121449083217, 0.28113121449083217, 0.974284251652337, 0.0011276438097827975, 0.023680520005438747, 0.0236224484405745, 0.94489793762298, 0.41051852628444657, 0.5873908700559368, 0.01049836484499877, 0.9763479305848856, 0.31184676679695383, 0.31184676679695383, 0.31184676679695383, 0.09113922928446026, 0.09113922928446026, 0.7291138342756821, 0.3452779836670422, 0.3452779836670422, 0.4799205985947815, 0.15997353286492716, 0.15997353286492716, 0.18483566874951476, 0.28165435238021297, 0.5193002122010176, 0.008801698511881655, 0.23441734108381546, 0.23441734108381546, 0.23441734108381546, 0.07659026183046913, 0.07659026183046913, 0.8424928801351604, 0.00937320181929059, 0.5530189073381447, 0.4217940818680765, 0.2763887374602798, 0.2763887374602798, 0.030465872487744735, 0.030465872487744735, 0.913976174632342, 0.07097320738648964, 0.07097320738648964, 0.780705281251386, 0.27062015739555734, 0.27062015739555734, 0.27062015739555734, 0.3043136155107278, 0.3043136155107278, 0.9714888833733694, 0.012143611042167117, 0.012143611042167117, 0.3452779836670422, 0.3452779836670422, 0.6390336027998695, 0.35838976536847283, 0.0018962421448067346, 0.0018962421448067346, 0.06120664939322621, 0.06120664939322621, 0.856893091505167, 0.06120664939322621, 0.30940074824043573, 0.30940074824043573, 0.30940074824043573, 0.14365753552247484, 0.14365753552247484, 0.7182876776123741, 0.25656694458143303, 0.25656694458143303, 0.5131338891628661, 0.25635971580729294, 0.25635971580729294, 0.25635971580729294, 0.41416154209465167, 0.2783708725554216, 0.2919499395093446, 0.10398314884635956, 0.10398314884635956, 0.7278820419245169, 0.8884728869439715, 0.08668028165307039, 0.023217932585643856, 0.001547862172376257, 0.7046270213481546, 0.011551262645051715, 0.27723030348124117, 0.4828428683597508, 0.35656088740412367, 0.014856703641838487, 0.14856703641838487, 0.09626068537902269, 0.09626068537902269, 0.7700854830321815, 0.20639494199790856, 0.20639494199790856, 0.20639494199790856, 0.4127898839958171, 0.9159453539230339, 0.07632877949358616, 0.004489928205505068, 0.04776034404190448, 0.04776034404190448, 0.38208275233523586, 0.47760344041904484, 0.29838118555762044, 0.29838118555762044, 0.29838118555762044, 0.2670018042863101, 0.2670018042863101, 0.2670018042863101, 0.02986079948875867, 0.02986079948875867, 0.9256847841515188, 0.11272856038366365, 0.11272856038366365, 0.6763713623019819, 0.07591862585945111, 0.07591862585945111, 0.8351048844539622, 0.534857082045424, 0.4633705477301741, 0.0008612835459668663, 0.3329165618630729, 0.3329165618630729, 0.3329165618630729, 0.9795352430542144, 0.0073099645004045845, 0.13052162656739658, 0.13052162656739658, 0.6526081328369828, 0.2779584019416435, 0.7204015510996903, 0.0010410427039012865, 0.0010410427039012865, 0.26866607815989857, 0.26866607815989857, 0.26866607815989857, 0.06327206695738717, 0.9340162265138107, 0.0015064777846996948, 0.014883202224993118, 0.6399776956747041, 0.3274304489498486, 0.020870123750463817, 0.5426232175120592, 0.41740247500927635, 0.018327039275363062, 0.9530060423188793, 0.1406696293669144, 0.8578866128996329, 0.0009906311927247494, 0.41527786919167653, 0.5000503541171092, 0.08369941549599683, 0.0010730694294358567, 0.055642873401343974, 0.5166838244410512, 0.41334705955284096, 0.17672169856864378, 0.17672169856864378, 0.5301650957059313, 0.013867601166248451, 0.9707320816373916, 0.11287407453069984, 0.11287407453069984, 0.7901185217148988, 0.3121341234065828, 0.3121341234065828, 0.3121341234065828, 0.011808882616083531, 0.9683283745188496, 0.011808882616083531, 0.012749982013418096, 0.9562486510063573, 0.025499964026836193, 0.12143808941538463, 0.12143808941538463, 0.12143808941538463, 0.7286285364923077, 0.2390990010022558, 0.2390990010022558, 0.2390990010022558, 0.2390990010022558, 0.27400602587582346, 0.27400602587582346, 0.27400602587582346, 0.27400602587582346, 0.5730604983905624, 0.18375309459262598, 0.23981336073952883, 0.0031144592303834913, 0.3475567292236955, 0.3475567292236955, 0.3122752368577528, 0.3122752368577528, 0.5203754094190187, 0.19738377598652435, 0.0717759185405543, 0.19738377598652435, 0.08769155857402872, 0.08769155857402872, 0.7015324685922297, 0.29853798903362777, 0.29853798903362777, 0.29853798903362777, 0.11340694752447322, 0.11340694752447322, 0.6804416851468393, 0.2836932319374565, 0.2836932319374565, 0.2836932319374565, 0.001280479400850192, 0.9962129738614494, 0.001280479400850192, 0.001280479400850192, 0.25058889821146346, 0.25058889821146346, 0.5011777964229269, 0.20699856719188642, 0.20699856719188642, 0.20699856719188642, 0.20699856719188642, 0.015502287506306296, 0.2945434626198196, 0.682100650277477, 0.306323312454582, 0.306323312454582, 0.3311372516662283, 0.3311372516662283, 0.3311372516662283, 0.34982852573644724, 0.34982852573644724, 0.9727979938136846, 0.009444640716637715, 0.3517066769884787, 0.3517066769884787], \"Term\": [\"aap\", \"aap\", \"aap\", \"aap\", \"able\", \"able\", \"able\", \"able\", \"abuse\", \"abuse\", \"abuse\", \"abuse\", \"abusive\", \"abusive\", \"abusive\", \"access\", \"access\", \"access\", \"account\", \"account\", \"account\", \"active_internet\", \"active_internet\", \"active_internet\", \"aftr\", \"aftr\", \"alk\", \"alk\", \"allow\", \"allow\", \"allow\", \"amount\", \"amount\", \"android\", \"android\", \"answer\", \"answer\", \"answer\", \"answer\", \"app\", \"app\", \"app\", \"app\", \"application\", \"application\", \"application\", \"apply\", \"apply\", \"arragence\", \"arragence\", \"ask\", \"ask\", \"ask\", \"ask\", \"asking_permission\", \"asking_permission\", \"asking_permission\", \"atall\", \"atall\", \"attemp\", \"attemp\", \"attemp\", \"automate\", \"automate\", \"automate\", \"automatically\", \"automatically\", \"automatically\", \"availbale\", \"availbale\", \"availbale\", \"bad\", \"bad\", \"bad\", \"bad\", \"bajaj\", \"bajaj\", \"bajaj\", \"bajaj\", \"bajaj_fin\", \"bajaj_fin\", \"bajaj_fin\", \"bajaj_fin\", \"bajaj_finance\", \"bajaj_finance\", \"bajaj_finance\", \"bajaj_finance\", \"bajaj_finserv\", \"bajaj_finserv\", \"bajaj_finserv\", \"bajaj_finserv\", \"bank\", \"bank\", \"bank\", \"bat\", \"bat\", \"bed\", \"bed\", \"bed\", \"bit\", \"bit\", \"bit\", \"block\", \"block\", \"blue\", \"blue\", \"blue\", \"borrow\", \"borrow\", \"borrow\", \"borrow\", \"bot\", \"bot\", \"bot\", \"bot\", \"bounce\", \"bounce\", \"breach\", \"breach\", \"breach\", \"bug\", \"bug\", \"buy\", \"buy\", \"call\", \"call\", \"call\", \"call\", \"call_log\", \"call_log\", \"call_log\", \"camera\", \"camera\", \"camera\", \"cancel\", \"cancel\", \"cancel\", \"card\", \"card\", \"caroli\", \"caroli\", \"cashback\", \"cashback\", \"cashback\", \"cater\", \"cater\", \"charge\", \"charge\", \"charge\", \"cheat\", \"cheat\", \"cheat\", \"cheque_bounce\", \"cheque_bounce\", \"cheque_bounce\", \"clarify\", \"clarify\", \"clarify\", \"clarify\", \"click\", \"click\", \"clothe\", \"clothe\", \"collect\", \"collect\", \"collect\", \"come\", \"come\", \"come\", \"communicate\", \"communicate\", \"communicate\", \"communicate\", \"communication\", \"communication\", \"communication\", \"company\", \"company\", \"company\", \"company\", \"compare\", \"compare\", \"compare\", \"complicate\", \"complicate\", \"complicate\", \"condition\", \"condition\", \"condition\", \"condition\", \"condition\", \"connect\", \"connect\", \"connect\", \"connection\", \"connection\", \"connection\", \"connection\", \"contact\", \"contact\", \"contact\", \"contact\", \"contact_list\", \"contact_list\", \"contact_list\", \"contacts_sm\", \"contacts_sm\", \"contacts_sm\", \"conversation\", \"conversation\", \"conversation\", \"coupan\", \"coupan\", \"coupan\", \"covid_period\", \"covid_period\", \"covid_period\", \"crash\", \"crash\", \"customer\", \"customer\", \"customer\", \"customer\", \"customer_care\", \"customer_care\", \"customer_care\", \"customer_service\", \"customer_service\", \"customer_service\", \"datum\", \"datum\", \"datum\", \"day\", \"day\", \"debit\", \"debit\", \"deduct\", \"deduct\", \"detail\", \"detail\", \"detail\", \"developer\", \"developer\", \"developer\", \"developer\", \"device\", \"device\", \"device\", \"devloper\", \"devloper\", \"devloper\", \"devloper\", \"devloper\", \"di\", \"di\", \"difficulty\", \"difficulty\", \"difficulty\", \"disapointe\", \"disapointe\", \"disconnect\", \"disconnect\", \"disconnect\", \"discount\", \"discount\", \"dispointend\", \"dispointend\", \"docment\", \"docment\", \"docment\", \"doctor\", \"doctor\", \"doctor\", \"doctor\", \"document\", \"document\", \"dowlnloade\", \"dowlnloade\", \"dowlnloade\", \"download\", \"download\", \"download\", \"due\", \"due\", \"due\", \"easly\", \"easly\", \"easly\", \"email\", \"email\", \"email\", \"email_address\", \"email_address\", \"email_address\", \"emandate\", \"emandate\", \"emandate\", \"emi\", \"emi\", \"enter\", \"enter\", \"enter_otp\", \"enter_otp\", \"entering_mobile\", \"entering_mobile\", \"environment\", \"environment\", \"environment\", \"environment\", \"error\", \"error\", \"even\", \"even\", \"even\", \"even\", \"everytime\", \"everytime\", \"everytime\", \"executive\", \"executive\", \"executive\", \"exorbitant\", \"exorbitant\", \"exorbitant\", \"exorbitant\", \"expiriance\", \"expiriance\", \"expiriance\", \"fake\", \"fake\", \"false\", \"false\", \"false\", \"fee\", \"fee\", \"figure\", \"figure\", \"figure\", \"finance\", \"finance\", \"finance\", \"finance\", \"financial_transaction\", \"financial_transaction\", \"financial_transaction\", \"fingerprint\", \"fingerprint\", \"fix\", \"fix\", \"fix\", \"fixed_deposit\", \"fixed_deposit\", \"fixed_deposit\", \"flexi\", \"flexi\", \"flexi\", \"flexi\", \"flexipay\", \"flexipay\", \"force\", \"force\", \"force\", \"gang\", \"gang\", \"gang\", \"gas\", \"gas\", \"get\", \"get\", \"get\", \"get\", \"give\", \"give\", \"give\", \"give\", \"go\", \"go\", \"go\", \"go\", \"gov\", \"gov\", \"grant\", \"grant\", \"grant\", \"heavy\", \"heavy\", \"heavy\", \"hidden\", \"hidden\", \"hidden\", \"hidden\", \"hidden_charge\", \"hidden_charge\", \"hidden_charge\", \"hide\", \"hide\", \"hide\", \"hide\", \"high\", \"high\", \"high\", \"high\", \"home_credit\", \"home_credit\", \"home_credit\", \"home_page\", \"home_page\", \"hopeless\", \"hopeless\", \"hopeless\", \"hospital\", \"hospital\", \"hospital\", \"houra\", \"houra\", \"houra\", \"human\", \"human\", \"human\", \"idiot\", \"idiot\", \"idiot\", \"idiot\", \"immideately\", \"immideately\", \"immideately\", \"imternet\", \"imternet\", \"imternet\", \"incorrectly\", \"incorrectly\", \"incorrectly\", \"info\", \"info\", \"info\", \"info\", \"information\", \"information\", \"information\", \"information\", \"inhone\", \"inhone\", \"instal\", \"instal\", \"instal\", \"install\", \"install\", \"install\", \"insurance\", \"insurance\", \"interest\", \"interest\", \"interest\", \"interest_rate\", \"interest_rate\", \"interest_rate\", \"internet_connection\", \"internet_connection\", \"intrest\", \"intrest\", \"intrest\", \"intrusive\", \"intrusive\", \"intrusive\", \"invalid\", \"invalid\", \"issue\", \"issue\", \"issue\", \"ither\", \"ither\", \"ither\", \"ivr\", \"ivr\", \"ivr\", \"ka\", \"ka\", \"ka\", \"keeps_crashing\", \"keeps_crashing\", \"keeps_crashing\", \"keeps_crashing\", \"kiya\", \"kiya\", \"krne\", \"krne\", \"lack\", \"lack\", \"lack\", \"lagging\", \"lagging\", \"language\", \"language\", \"language\", \"language\", \"level\", \"level\", \"level\", \"limit\", \"limit\", \"limit\", \"link\", \"link\", \"link\", \"link\", \"liya\", \"liya\", \"liye\", \"liye\", \"loan\", \"loan\", \"loan\", \"location\", \"location\", \"location\", \"log\", \"log\", \"log\", \"logged\", \"logged\", \"loggin\", \"loggin\", \"loggin\", \"login\", \"login\", \"loign\", \"loign\", \"lone\", \"lone\", \"lone\", \"lot\", \"lot\", \"lot\", \"lot\", \"mail\", \"mail\", \"mail\", \"maine\", \"maine\", \"make\", \"make\", \"make\", \"make\", \"mandatory\", \"mandatory\", \"mandatory\", \"manditory\", \"manditory\", \"manually\", \"manually\", \"manually\", \"many_bug\", \"many_bug\", \"many_hidden\", \"many_hidden\", \"many_hidden\", \"many_permission\", \"many_permission\", \"many_permission\", \"maximum\", \"maximum\", \"maximum\", \"mbps\", \"mbps\", \"mbps\", \"mbps\", \"meal\", \"meal\", \"medium\", \"medium\", \"medium\", \"mention\", \"mention\", \"mention\", \"mention\", \"message\", \"message\", \"message\", \"mila\", \"mila\", \"minut\", \"minut\", \"minut\", \"mobile\", \"mobile\", \"mobile\", \"mobile_number\", \"mobile_number\", \"money\", \"money\", \"monitor\", \"monitor\", \"monitor\", \"month\", \"month\", \"moon\", \"moon\", \"moon\", \"need\", \"need\", \"need\", \"need\", \"need_access\", \"need_access\", \"need_access\", \"never\", \"never\", \"never\", \"never\", \"next_page\", \"next_page\", \"next_page\", \"nhe\", \"nhe\", \"number\", \"number\", \"number\", \"numbet\", \"numbet\", \"obtain\", \"obtain\", \"obtain\", \"offer\", \"offer\", \"offer\", \"office\", \"office\", \"office\", \"online\", \"online\", \"online\", \"online_shoppe\", \"online_shoppe\", \"online_shoppe\", \"open\", \"open\", \"open\", \"opening\", \"opening\", \"option\", \"option\", \"option\", \"option\", \"optional\", \"optional\", \"optional\", \"other\", \"other\", \"other\", \"other\", \"otp\", \"otp\", \"page\", \"page\", \"parameter\", \"parameter\", \"parameter\", \"password\", \"password\", \"pay\", \"pay\", \"payment\", \"payment\", \"pende\", \"pende\", \"people\", \"people\", \"people\", \"people\", \"percent\", \"percent\", \"percent\", \"permission\", \"permission\", \"permission\", \"personal_information\", \"personal_information\", \"personal_information\", \"personalize\", \"personalize\", \"personalize\", \"phone\", \"phone\", \"phone\", \"phone\", \"planety\", \"planety\", \"planety\", \"planty\", \"planty\", \"please_fix\", \"please_fix\", \"pre_approved\", \"pre_approved\", \"pre_approved\", \"prepayment\", \"prepayment\", \"prepayment\", \"prepayment\", \"price\", \"price\", \"price\", \"prime\", \"prime\", \"prime\", \"principal\", \"principal\", \"principal\", \"privacy\", \"privacy\", \"privacy\", \"problem\", \"problem\", \"problem\", \"processing_fee\", \"processing_fee\", \"processing_fee\", \"product\", \"product\", \"product\", \"product\", \"proper\", \"proper\", \"proper\", \"provision\", \"provision\", \"provision\", \"purchase\", \"purchase\", \"push\", \"push\", \"push\", \"quality\", \"quality\", \"quality\", \"quality\", \"query\", \"query\", \"query\", \"raise\", \"raise\", \"raise\", \"rate\", \"rate\", \"rate\", \"reach\", \"reach\", \"reach\", \"reachable\", \"reachable\", \"reachable\", \"read\", \"read\", \"read\", \"reason\", \"reason\", \"reason\", \"recive\", \"recive\", \"recive\", \"recover\", \"recover\", \"recover\", \"reduce\", \"reduce\", \"reduce\", \"reference\", \"reference\", \"reference\", \"reference\", \"reinstall\", \"reinstall\", \"relaunch\", \"relaunch\", \"repet\", \"repet\", \"reply\", \"reply\", \"reply\", \"reply\", \"require\", \"require\", \"require\", \"resolution\", \"resolution\", \"resolution\", \"resolve\", \"resolve\", \"resolve\", \"response\", \"response\", \"response\", \"rs\", \"rs\", \"rule\", \"rule\", \"rule\", \"rule\", \"say\", \"say\", \"say\", \"say\", \"screen\", \"screen\", \"screen\", \"section\", \"section\", \"section\", \"serv\", \"serv\", \"serv\", \"service\", \"service\", \"service\", \"session\", \"session\", \"show\", \"show\", \"sim\", \"sim\", \"singn\", \"singn\", \"singn\", \"site\", \"site\", \"site\", \"situvation\", \"situvation\", \"sleep\", \"sleep\", \"sleep\", \"sm\", \"sm\", \"sm\", \"sm\", \"smooth\", \"smooth\", \"smooth\", \"sms_contact\", \"sms_contact\", \"sms_contact\", \"solve\", \"solve\", \"solve\", \"somete\", \"somete\", \"speak\", \"speak\", \"speak\", \"speed\", \"speed\", \"speed\", \"spite\", \"spite\", \"spite\", \"sr\", \"sr\", \"status\", \"status\", \"status\", \"steeler\", \"steeler\", \"still\", \"still\", \"still\", \"still\", \"storage\", \"storage\", \"storage\", \"storage\", \"study\", \"study\", \"study\", \"subscription\", \"subscription\", \"subscription\", \"sum\", \"sum\", \"sum\", \"sup\", \"sup\", \"sup\", \"support\", \"support\", \"support\", \"support_team\", \"support_team\", \"support_team\", \"take\", \"take\", \"take\", \"take\", \"talk\", \"talk\", \"talk\", \"team\", \"team\", \"team\", \"team\", \"teamviewer\", \"teamviewer\", \"teamviewer\", \"tedious\", \"tedious\", \"tedious\", \"tedious\", \"tell\", \"tell\", \"tell\", \"term\", \"term\", \"term\", \"term\", \"tha\", \"tha\", \"tha\", \"thik\", \"thik\", \"thik\", \"third_class\", \"third_class\", \"third_class\", \"three_day\", \"three_day\", \"three_day\", \"ticket\", \"ticket\", \"ticket\", \"time\", \"time\", \"time\", \"torchal\", \"torchal\", \"torchal\", \"transaction\", \"transaction\", \"true\", \"true\", \"true\", \"try\", \"try\", \"try\", \"try\", \"turnover\", \"turnover\", \"turnover\", \"unable\", \"unable\", \"unable\", \"uninstall\", \"uninstall\", \"uninstall\", \"uninstalled\", \"uninstalled\", \"uninstalled\", \"unlock\", \"unlock\", \"update\", \"update\", \"update\", \"use\", \"use\", \"use\", \"use\", \"user\", \"user\", \"user\", \"utilize\", \"utilize\", \"utilize\", \"valid\", \"valid\", \"valuable\", \"valuable\", \"valuable\", \"vconnect\", \"vconnect\", \"vconnect\", \"version\", \"version\", \"version\", \"view\", \"view\", \"view\", \"voice\", \"voice\", \"voice\", \"voice\", \"vulnerable\", \"vulnerable\", \"vulnerable\", \"vulnerable\", \"waist\", \"waist\", \"waist\", \"waist\", \"want\", \"want\", \"want\", \"want\", \"war\", \"war\", \"waster\", \"waster\", \"way\", \"way\", \"way\", \"way\", \"wecare\", \"wecare\", \"wecare\", \"wifi\", \"wifi\", \"wifi\", \"withdrawal\", \"withdrawal\", \"withdrawal\", \"within_second\", \"within_second\", \"within_second\", \"work\", \"work\", \"work\", \"work\", \"worker\", \"worker\", \"worker\", \"worthy\", \"worthy\", \"worthy\", \"worthy\", \"write\", \"write\", \"write\", \"wrng\", \"wrng\", \"ws\", \"ws\", \"ws\", \"wth\", \"wth\", \"year\", \"year\", \"yha\", \"yha\"]}, \"R\": 30, \"lambda.step\": 0.01, \"plot.opts\": {\"xlab\": \"PC1\", \"ylab\": \"PC2\"}, \"topic.order\": [2, 1, 6, 3, 4, 5, 7, 8]};\n",
       "\n",
       "function LDAvis_load_lib(url, callback){\n",
       "  var s = document.createElement('script');\n",
       "  s.src = url;\n",
       "  s.async = true;\n",
       "  s.onreadystatechange = s.onload = callback;\n",
       "  s.onerror = function(){console.warn(\"failed to load library \" + url);};\n",
       "  document.getElementsByTagName(\"head\")[0].appendChild(s);\n",
       "}\n",
       "\n",
       "if(typeof(LDAvis) !== \"undefined\"){\n",
       "   // already loaded: just create the visualization\n",
       "   !function(LDAvis){\n",
       "       new LDAvis(\"#\" + \"ldavis_el7005049785443047097693949\", ldavis_el7005049785443047097693949_data);\n",
       "   }(LDAvis);\n",
       "}else if(typeof define === \"function\" && define.amd){\n",
       "   // require.js is available: use it to load d3/LDAvis\n",
       "   require.config({paths: {d3: \"https://d3js.org/d3.v5\"}});\n",
       "   require([\"d3\"], function(d3){\n",
       "      window.d3 = d3;\n",
       "      LDAvis_load_lib(\"https://cdn.jsdelivr.net/gh/bmabey/pyLDAvis@3.3.1/pyLDAvis/js/ldavis.v3.0.0.js\", function(){\n",
       "        new LDAvis(\"#\" + \"ldavis_el7005049785443047097693949\", ldavis_el7005049785443047097693949_data);\n",
       "      });\n",
       "    });\n",
       "}else{\n",
       "    // require.js not available: dynamically load d3 & LDAvis\n",
       "    LDAvis_load_lib(\"https://d3js.org/d3.v5.js\", function(){\n",
       "         LDAvis_load_lib(\"https://cdn.jsdelivr.net/gh/bmabey/pyLDAvis@3.3.1/pyLDAvis/js/ldavis.v3.0.0.js\", function(){\n",
       "                 new LDAvis(\"#\" + \"ldavis_el7005049785443047097693949\", ldavis_el7005049785443047097693949_data);\n",
       "            })\n",
       "         });\n",
       "}\n",
       "</script>"
      ],
      "text/plain": [
       "PreparedData(topic_coordinates=              x         y  topics  cluster       Freq\n",
       "topic                                                \n",
       "1      0.218929  0.142440       1        1  45.423800\n",
       "0      0.252117 -0.114796       2        1  38.187898\n",
       "5      0.010093 -0.074290       3        1   6.577078\n",
       "2     -0.057215  0.073313       4        1   5.209096\n",
       "3     -0.116911  0.002191       5        1   2.243133\n",
       "4     -0.104906 -0.010828       6        1   1.004976\n",
       "6     -0.100796 -0.008221       7        1   0.691083\n",
       "7     -0.101312 -0.009809       8        1   0.662935, topic_info=           Term         Freq        Total Category  logprob  loglift\n",
       "27          app  3295.000000  3295.000000  Default  30.0000  30.0000\n",
       "123       login  1424.000000  1424.000000  Default  29.0000  29.0000\n",
       "16         loan  1257.000000  1257.000000  Default  28.0000  28.0000\n",
       "104        work   780.000000   780.000000  Default  27.0000  27.0000\n",
       "251     contact   356.000000   356.000000  Default  26.0000  26.0000\n",
       "...         ...          ...          ...      ...      ...      ...\n",
       "5736       meal     0.412692     4.437654   Topic8  -7.3633   2.6411\n",
       "2528  home_page     0.447667     6.305293   Topic8  -7.2819   2.3712\n",
       "469       sleep     0.407024     6.251034   Topic8  -7.3771   2.2846\n",
       "1342   many_bug     0.421260    15.277050   Topic8  -7.3427   1.4254\n",
       "1519    quality     0.384721    16.466423   Topic8  -7.4334   1.2597\n",
       "\n",
       "[412 rows x 6 columns], token_table=      Topic      Freq  Term\n",
       "term                       \n",
       "1140      1  0.123647   aap\n",
       "1140      2  0.123647   aap\n",
       "1140      3  0.123647   aap\n",
       "1140      8  0.618237   aap\n",
       "105       1  0.089959  able\n",
       "...     ...       ...   ...\n",
       "4377      2  0.349829   wth\n",
       "825       1  0.972798  year\n",
       "825       2  0.009445  year\n",
       "5418      1  0.351707   yha\n",
       "5418      2  0.351707   yha\n",
       "\n",
       "[1045 rows x 3 columns], R=30, lambda_step=0.01, plot_opts={'xlab': 'PC1', 'ylab': 'PC2'}, topic_order=[2, 1, 6, 3, 4, 5, 7, 8])"
      ]
     },
     "execution_count": 29,
     "metadata": {},
     "output_type": "execute_result"
    }
   ],
   "source": [
    "import pyLDAvis.gensim_models\n",
    "import pickle \n",
    "import pyLDAvis\n",
    "\n",
    "pyLDAvis.enable_notebook()\n",
    "\n",
    "LDAvis_prepared = pyLDAvis.gensim_models.prepare(lda_model, corpus, id2word)\n",
    "\n",
    "LDAvis_prepared"
   ]
  },
  {
   "cell_type": "code",
   "execution_count": null,
   "id": "04df8445",
   "metadata": {},
   "outputs": [],
   "source": []
  }
 ],
 "metadata": {
  "kernelspec": {
   "display_name": "Python 3",
   "language": "python",
   "name": "python3"
  },
  "language_info": {
   "codemirror_mode": {
    "name": "ipython",
    "version": 3
   },
   "file_extension": ".py",
   "mimetype": "text/x-python",
   "name": "python",
   "nbconvert_exporter": "python",
   "pygments_lexer": "ipython3",
   "version": "3.8.10"
  }
 },
 "nbformat": 4,
 "nbformat_minor": 5
}
